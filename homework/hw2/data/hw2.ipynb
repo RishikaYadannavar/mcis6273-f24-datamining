{
 "cells": [
  {
   "cell_type": "code",
   "execution_count": 1,
   "id": "c3a29bf4-0969-4c8d-a5c3-a6704b71b881",
   "metadata": {},
   "outputs": [
    {
     "name": "stdout",
     "output_type": "stream",
     "text": [
      "Requirement already satisfied: pandas in /opt/conda/envs/sau24s/lib/python3.8/site-packages (1.0.5)\n",
      "Requirement already satisfied: python-dateutil>=2.6.1 in /opt/conda/envs/sau24s/lib/python3.8/site-packages (from pandas) (2.8.2)\n",
      "Requirement already satisfied: pytz>=2017.2 in /opt/conda/envs/sau24s/lib/python3.8/site-packages (from pandas) (2023.3.post1)\n",
      "Requirement already satisfied: numpy>=1.13.3 in /opt/conda/envs/sau24s/lib/python3.8/site-packages (from pandas) (1.19.5)\n",
      "Requirement already satisfied: six>=1.5 in /opt/conda/envs/sau24s/lib/python3.8/site-packages (from python-dateutil>=2.6.1->pandas) (1.16.0)\n",
      "Requirement already satisfied: numpy in /opt/conda/envs/sau24s/lib/python3.8/site-packages (1.19.5)\n",
      "Requirement already satisfied: matplotlib in /opt/conda/envs/sau24s/lib/python3.8/site-packages (3.3.2)\n",
      "Requirement already satisfied: certifi>=2020.06.20 in /opt/conda/envs/sau24s/lib/python3.8/site-packages (from matplotlib) (2023.11.17)\n",
      "Requirement already satisfied: cycler>=0.10 in /opt/conda/envs/sau24s/lib/python3.8/site-packages (from matplotlib) (0.12.1)\n",
      "Requirement already satisfied: kiwisolver>=1.0.1 in /opt/conda/envs/sau24s/lib/python3.8/site-packages (from matplotlib) (1.4.5)\n",
      "Requirement already satisfied: numpy>=1.15 in /opt/conda/envs/sau24s/lib/python3.8/site-packages (from matplotlib) (1.19.5)\n",
      "Requirement already satisfied: pillow>=6.2.0 in /opt/conda/envs/sau24s/lib/python3.8/site-packages (from matplotlib) (9.4.0)\n",
      "Requirement already satisfied: pyparsing!=2.0.4,!=2.1.2,!=2.1.6,>=2.0.3 in /opt/conda/envs/sau24s/lib/python3.8/site-packages (from matplotlib) (3.1.1)\n",
      "Requirement already satisfied: python-dateutil>=2.1 in /opt/conda/envs/sau24s/lib/python3.8/site-packages (from matplotlib) (2.8.2)\n",
      "Requirement already satisfied: six>=1.5 in /opt/conda/envs/sau24s/lib/python3.8/site-packages (from python-dateutil>=2.1->matplotlib) (1.16.0)\n",
      "Collecting seaborn\n",
      "  Using cached seaborn-0.13.2-py3-none-any.whl.metadata (5.4 kB)\n",
      "Collecting numpy!=1.24.0,>=1.20 (from seaborn)\n",
      "  Using cached numpy-1.24.4-cp38-cp38-manylinux_2_17_x86_64.manylinux2014_x86_64.whl.metadata (5.6 kB)\n",
      "Collecting pandas>=1.2 (from seaborn)\n",
      "  Using cached pandas-2.0.3-cp38-cp38-manylinux_2_17_x86_64.manylinux2014_x86_64.whl.metadata (18 kB)\n",
      "Collecting matplotlib!=3.6.1,>=3.4 (from seaborn)\n",
      "  Using cached matplotlib-3.7.5-cp38-cp38-manylinux_2_12_x86_64.manylinux2010_x86_64.whl.metadata (5.7 kB)\n",
      "Collecting contourpy>=1.0.1 (from matplotlib!=3.6.1,>=3.4->seaborn)\n",
      "  Using cached contourpy-1.1.1-cp38-cp38-manylinux_2_17_x86_64.manylinux2014_x86_64.whl.metadata (5.9 kB)\n",
      "Requirement already satisfied: cycler>=0.10 in /opt/conda/envs/sau24s/lib/python3.8/site-packages (from matplotlib!=3.6.1,>=3.4->seaborn) (0.12.1)\n",
      "Collecting fonttools>=4.22.0 (from matplotlib!=3.6.1,>=3.4->seaborn)\n",
      "  Using cached fonttools-4.51.0-cp38-cp38-manylinux_2_17_x86_64.manylinux2014_x86_64.whl.metadata (159 kB)\n",
      "Requirement already satisfied: kiwisolver>=1.0.1 in /opt/conda/envs/sau24s/lib/python3.8/site-packages (from matplotlib!=3.6.1,>=3.4->seaborn) (1.4.5)\n",
      "Requirement already satisfied: packaging>=20.0 in /opt/conda/envs/sau24s/lib/python3.8/site-packages (from matplotlib!=3.6.1,>=3.4->seaborn) (23.2)\n",
      "Requirement already satisfied: pillow>=6.2.0 in /opt/conda/envs/sau24s/lib/python3.8/site-packages (from matplotlib!=3.6.1,>=3.4->seaborn) (9.4.0)\n",
      "Requirement already satisfied: pyparsing>=2.3.1 in /opt/conda/envs/sau24s/lib/python3.8/site-packages (from matplotlib!=3.6.1,>=3.4->seaborn) (3.1.1)\n",
      "Requirement already satisfied: python-dateutil>=2.7 in /opt/conda/envs/sau24s/lib/python3.8/site-packages (from matplotlib!=3.6.1,>=3.4->seaborn) (2.8.2)\n",
      "Requirement already satisfied: importlib-resources>=3.2.0 in /opt/conda/envs/sau24s/lib/python3.8/site-packages (from matplotlib!=3.6.1,>=3.4->seaborn) (6.1.1)\n",
      "Requirement already satisfied: pytz>=2020.1 in /opt/conda/envs/sau24s/lib/python3.8/site-packages (from pandas>=1.2->seaborn) (2023.3.post1)\n",
      "Collecting tzdata>=2022.1 (from pandas>=1.2->seaborn)\n",
      "  Using cached tzdata-2024.1-py2.py3-none-any.whl.metadata (1.4 kB)\n",
      "Requirement already satisfied: zipp>=3.1.0 in /opt/conda/envs/sau24s/lib/python3.8/site-packages (from importlib-resources>=3.2.0->matplotlib!=3.6.1,>=3.4->seaborn) (3.17.0)\n",
      "Requirement already satisfied: six>=1.5 in /opt/conda/envs/sau24s/lib/python3.8/site-packages (from python-dateutil>=2.7->matplotlib!=3.6.1,>=3.4->seaborn) (1.16.0)\n",
      "Using cached seaborn-0.13.2-py3-none-any.whl (294 kB)\n",
      "Using cached matplotlib-3.7.5-cp38-cp38-manylinux_2_12_x86_64.manylinux2010_x86_64.whl (9.2 MB)\n",
      "Using cached numpy-1.24.4-cp38-cp38-manylinux_2_17_x86_64.manylinux2014_x86_64.whl (17.3 MB)\n",
      "Using cached pandas-2.0.3-cp38-cp38-manylinux_2_17_x86_64.manylinux2014_x86_64.whl (12.4 MB)\n",
      "Using cached contourpy-1.1.1-cp38-cp38-manylinux_2_17_x86_64.manylinux2014_x86_64.whl (301 kB)\n",
      "Using cached fonttools-4.51.0-cp38-cp38-manylinux_2_17_x86_64.manylinux2014_x86_64.whl (4.7 MB)\n",
      "Using cached tzdata-2024.1-py2.py3-none-any.whl (345 kB)\n",
      "Installing collected packages: tzdata, numpy, fonttools, pandas, contourpy, matplotlib, seaborn\n",
      "  Attempting uninstall: numpy\n",
      "    Found existing installation: numpy 1.19.5\n",
      "    Uninstalling numpy-1.19.5:\n",
      "      Successfully uninstalled numpy-1.19.5\n",
      "  Attempting uninstall: pandas\n",
      "    Found existing installation: pandas 1.0.5\n",
      "    Uninstalling pandas-1.0.5:\n",
      "      Successfully uninstalled pandas-1.0.5\n",
      "  Attempting uninstall: matplotlib\n",
      "    Found existing installation: matplotlib 3.3.2\n",
      "    Uninstalling matplotlib-3.3.2:\n",
      "      Successfully uninstalled matplotlib-3.3.2\n",
      "Successfully installed contourpy-1.1.1 fonttools-4.51.0 matplotlib-3.7.5 numpy-1.24.4 pandas-2.0.3 seaborn-0.13.2 tzdata-2024.1\n"
     ]
    }
   ],
   "source": [
    "!pip install pandas \n",
    "!pip install numpy\n",
    "!pip install matplotlib\n",
    "!pip install seaborn "
   ]
  },
  {
   "cell_type": "code",
   "execution_count": 2,
   "id": "4280d533-e4e6-47f0-970e-aa15a481905c",
   "metadata": {},
   "outputs": [],
   "source": [
    "import warnings\n",
    "warnings.filterwarnings('ignore')\n"
   ]
  },
  {
   "cell_type": "code",
   "execution_count": 3,
   "id": "ed82f4c2-da1c-4e37-9bf9-d94abbe7033b",
   "metadata": {},
   "outputs": [],
   "source": [
    "import pandas as pd\n",
    "import numpy as np\n",
    "import matplotlib.pyplot as plt\n",
    "import seaborn as sns\n"
   ]
  },
  {
   "cell_type": "code",
   "execution_count": 4,
   "id": "205f454b-adbe-4daf-b47e-ed73058803ac",
   "metadata": {},
   "outputs": [
    {
     "name": "stdout",
     "output_type": "stream",
     "text": [
      "Current working directory: /home/jovyan/mcis6273-f24-datamining/homework/hw2\n",
      "File found. Proceeding to read the CSV.\n",
      "  State ZIP Code Registration Date Vehicle Make Vehicle Model  \\\n",
      "0    MN    55337         10/1/2021        TESLA       MODEL 3   \n",
      "1    MN    55345         10/1/2021        TESLA       MODEL 3   \n",
      "2    MN    55077         10/1/2021        TESLA       MODEL 3   \n",
      "3    MN    55344         10/1/2021        TESLA       MODEL 3   \n",
      "4    MN    55416         10/1/2021        TESLA       MODEL 3   \n",
      "\n",
      "   Vehicle Model Year Drivetrain Type Vehicle GVWR Class  \\\n",
      "0                2018             BEV                  1   \n",
      "1                2018             BEV                  1   \n",
      "2                2018             BEV                  1   \n",
      "3                2018             BEV                  1   \n",
      "4                2018             BEV                  1   \n",
      "\n",
      "          Vehicle Category  Vehicle Count  DMV Snapshot ID  \\\n",
      "0  Light-Duty (Class 1-2A)              1                5   \n",
      "1  Light-Duty (Class 1-2A)              1                5   \n",
      "2  Light-Duty (Class 1-2A)              1                5   \n",
      "3  Light-Duty (Class 1-2A)              1                5   \n",
      "4  Light-Duty (Class 1-2A)              1                5   \n",
      "\n",
      "       DMV Snapshot (Date)  Latest DMV Snapshot Flag  \n",
      "0  DMV Snapshot (2/1/2022)                     False  \n",
      "1  DMV Snapshot (2/1/2022)                     False  \n",
      "2  DMV Snapshot (2/1/2022)                     False  \n",
      "3  DMV Snapshot (2/1/2022)                     False  \n",
      "4  DMV Snapshot (2/1/2022)                     False  \n"
     ]
    }
   ],
   "source": [
    "import os\n",
    "import pandas as pd\n",
    "\n",
    "# Check current working directory\n",
    "print(\"Current working directory:\", os.getcwd())\n",
    "\n",
    "# Your file path (make sure to adjust it to the correct path)\n",
    "file_path = '/home/jovyan/mcis6273-f24-datamining/homework/hw2/data/MN_EV_Registrations.csv'\n",
    "\n",
    "# Verify that the file exists\n",
    "if os.path.exists(file_path):\n",
    "    print(\"File found. Proceeding to read the CSV.\")\n",
    "    df = pd.read_csv(file_path)\n",
    "    print(df.head())\n",
    "else:\n",
    "    print(\"File not found. Please check the file path.\")\n"
   ]
  },
  {
   "cell_type": "code",
   "execution_count": 5,
   "id": "d35d6534-0b93-4898-9a5b-9bc0438f35e0",
   "metadata": {},
   "outputs": [
    {
     "data": {
      "text/html": [
       "<div>\n",
       "<style scoped>\n",
       "    .dataframe tbody tr th:only-of-type {\n",
       "        vertical-align: middle;\n",
       "    }\n",
       "\n",
       "    .dataframe tbody tr th {\n",
       "        vertical-align: top;\n",
       "    }\n",
       "\n",
       "    .dataframe thead th {\n",
       "        text-align: right;\n",
       "    }\n",
       "</style>\n",
       "<table border=\"1\" class=\"dataframe\">\n",
       "  <thead>\n",
       "    <tr style=\"text-align: right;\">\n",
       "      <th></th>\n",
       "      <th>State</th>\n",
       "      <th>ZIP Code</th>\n",
       "      <th>Registration Date</th>\n",
       "      <th>Vehicle Make</th>\n",
       "      <th>Vehicle Model</th>\n",
       "      <th>Vehicle Model Year</th>\n",
       "      <th>Drivetrain Type</th>\n",
       "      <th>Vehicle GVWR Class</th>\n",
       "      <th>Vehicle Category</th>\n",
       "      <th>Vehicle Count</th>\n",
       "      <th>DMV Snapshot ID</th>\n",
       "      <th>DMV Snapshot (Date)</th>\n",
       "      <th>Latest DMV Snapshot Flag</th>\n",
       "    </tr>\n",
       "  </thead>\n",
       "  <tbody>\n",
       "    <tr>\n",
       "      <th>0</th>\n",
       "      <td>MN</td>\n",
       "      <td>55337</td>\n",
       "      <td>10/1/2021</td>\n",
       "      <td>TESLA</td>\n",
       "      <td>MODEL 3</td>\n",
       "      <td>2018</td>\n",
       "      <td>BEV</td>\n",
       "      <td>1</td>\n",
       "      <td>Light-Duty (Class 1-2A)</td>\n",
       "      <td>1</td>\n",
       "      <td>5</td>\n",
       "      <td>DMV Snapshot (2/1/2022)</td>\n",
       "      <td>False</td>\n",
       "    </tr>\n",
       "    <tr>\n",
       "      <th>1</th>\n",
       "      <td>MN</td>\n",
       "      <td>55345</td>\n",
       "      <td>10/1/2021</td>\n",
       "      <td>TESLA</td>\n",
       "      <td>MODEL 3</td>\n",
       "      <td>2018</td>\n",
       "      <td>BEV</td>\n",
       "      <td>1</td>\n",
       "      <td>Light-Duty (Class 1-2A)</td>\n",
       "      <td>1</td>\n",
       "      <td>5</td>\n",
       "      <td>DMV Snapshot (2/1/2022)</td>\n",
       "      <td>False</td>\n",
       "    </tr>\n",
       "    <tr>\n",
       "      <th>2</th>\n",
       "      <td>MN</td>\n",
       "      <td>55077</td>\n",
       "      <td>10/1/2021</td>\n",
       "      <td>TESLA</td>\n",
       "      <td>MODEL 3</td>\n",
       "      <td>2018</td>\n",
       "      <td>BEV</td>\n",
       "      <td>1</td>\n",
       "      <td>Light-Duty (Class 1-2A)</td>\n",
       "      <td>1</td>\n",
       "      <td>5</td>\n",
       "      <td>DMV Snapshot (2/1/2022)</td>\n",
       "      <td>False</td>\n",
       "    </tr>\n",
       "    <tr>\n",
       "      <th>3</th>\n",
       "      <td>MN</td>\n",
       "      <td>55344</td>\n",
       "      <td>10/1/2021</td>\n",
       "      <td>TESLA</td>\n",
       "      <td>MODEL 3</td>\n",
       "      <td>2018</td>\n",
       "      <td>BEV</td>\n",
       "      <td>1</td>\n",
       "      <td>Light-Duty (Class 1-2A)</td>\n",
       "      <td>1</td>\n",
       "      <td>5</td>\n",
       "      <td>DMV Snapshot (2/1/2022)</td>\n",
       "      <td>False</td>\n",
       "    </tr>\n",
       "    <tr>\n",
       "      <th>4</th>\n",
       "      <td>MN</td>\n",
       "      <td>55416</td>\n",
       "      <td>10/1/2021</td>\n",
       "      <td>TESLA</td>\n",
       "      <td>MODEL 3</td>\n",
       "      <td>2018</td>\n",
       "      <td>BEV</td>\n",
       "      <td>1</td>\n",
       "      <td>Light-Duty (Class 1-2A)</td>\n",
       "      <td>1</td>\n",
       "      <td>5</td>\n",
       "      <td>DMV Snapshot (2/1/2022)</td>\n",
       "      <td>False</td>\n",
       "    </tr>\n",
       "  </tbody>\n",
       "</table>\n",
       "</div>"
      ],
      "text/plain": [
       "  State ZIP Code Registration Date Vehicle Make Vehicle Model  \\\n",
       "0    MN    55337         10/1/2021        TESLA       MODEL 3   \n",
       "1    MN    55345         10/1/2021        TESLA       MODEL 3   \n",
       "2    MN    55077         10/1/2021        TESLA       MODEL 3   \n",
       "3    MN    55344         10/1/2021        TESLA       MODEL 3   \n",
       "4    MN    55416         10/1/2021        TESLA       MODEL 3   \n",
       "\n",
       "   Vehicle Model Year Drivetrain Type Vehicle GVWR Class  \\\n",
       "0                2018             BEV                  1   \n",
       "1                2018             BEV                  1   \n",
       "2                2018             BEV                  1   \n",
       "3                2018             BEV                  1   \n",
       "4                2018             BEV                  1   \n",
       "\n",
       "          Vehicle Category  Vehicle Count  DMV Snapshot ID  \\\n",
       "0  Light-Duty (Class 1-2A)              1                5   \n",
       "1  Light-Duty (Class 1-2A)              1                5   \n",
       "2  Light-Duty (Class 1-2A)              1                5   \n",
       "3  Light-Duty (Class 1-2A)              1                5   \n",
       "4  Light-Duty (Class 1-2A)              1                5   \n",
       "\n",
       "       DMV Snapshot (Date)  Latest DMV Snapshot Flag  \n",
       "0  DMV Snapshot (2/1/2022)                     False  \n",
       "1  DMV Snapshot (2/1/2022)                     False  \n",
       "2  DMV Snapshot (2/1/2022)                     False  \n",
       "3  DMV Snapshot (2/1/2022)                     False  \n",
       "4  DMV Snapshot (2/1/2022)                     False  "
      ]
     },
     "execution_count": 5,
     "metadata": {},
     "output_type": "execute_result"
    }
   ],
   "source": [
    "import pandas as pd\n",
    "\n",
    "# Correct file path\n",
    "file_path = '/home/jovyan/mcis6273-f24-datamining/homework/hw2/data/MN_EV_Registrations.csv'\n",
    "\n",
    "# Read the CSV file into a pandas DataFrame\n",
    "df_ev = pd.read_csv(file_path)\n",
    "\n",
    "# Display the first few rows to confirm it's read correctly\n",
    "df_ev.head()\n"
   ]
  },
  {
   "cell_type": "code",
   "execution_count": 6,
   "id": "759549b9-3c19-4889-ad58-5c055d20a816",
   "metadata": {},
   "outputs": [],
   "source": [
    "df_ev['registration_year']=pd.to_datetime(df_ev['Registration Date']).dt.year"
   ]
  },
  {
   "cell_type": "code",
   "execution_count": 7,
   "id": "2716128c-82bf-40e9-b3f8-52308baf5c53",
   "metadata": {},
   "outputs": [
    {
     "data": {
      "text/html": [
       "<div>\n",
       "<style scoped>\n",
       "    .dataframe tbody tr th:only-of-type {\n",
       "        vertical-align: middle;\n",
       "    }\n",
       "\n",
       "    .dataframe tbody tr th {\n",
       "        vertical-align: top;\n",
       "    }\n",
       "\n",
       "    .dataframe thead th {\n",
       "        text-align: right;\n",
       "    }\n",
       "</style>\n",
       "<table border=\"1\" class=\"dataframe\">\n",
       "  <thead>\n",
       "    <tr style=\"text-align: right;\">\n",
       "      <th></th>\n",
       "      <th>State</th>\n",
       "      <th>ZIP Code</th>\n",
       "      <th>Registration Date</th>\n",
       "      <th>Vehicle Make</th>\n",
       "      <th>Vehicle Model</th>\n",
       "      <th>Vehicle Model Year</th>\n",
       "      <th>Drivetrain Type</th>\n",
       "      <th>Vehicle GVWR Class</th>\n",
       "      <th>Vehicle Category</th>\n",
       "      <th>Vehicle Count</th>\n",
       "      <th>DMV Snapshot ID</th>\n",
       "      <th>DMV Snapshot (Date)</th>\n",
       "      <th>Latest DMV Snapshot Flag</th>\n",
       "      <th>registration_year</th>\n",
       "    </tr>\n",
       "  </thead>\n",
       "  <tbody>\n",
       "    <tr>\n",
       "      <th>0</th>\n",
       "      <td>MN</td>\n",
       "      <td>55337</td>\n",
       "      <td>10/1/2021</td>\n",
       "      <td>TESLA</td>\n",
       "      <td>MODEL 3</td>\n",
       "      <td>2018</td>\n",
       "      <td>BEV</td>\n",
       "      <td>1</td>\n",
       "      <td>Light-Duty (Class 1-2A)</td>\n",
       "      <td>1</td>\n",
       "      <td>5</td>\n",
       "      <td>DMV Snapshot (2/1/2022)</td>\n",
       "      <td>False</td>\n",
       "      <td>2021.0</td>\n",
       "    </tr>\n",
       "    <tr>\n",
       "      <th>1</th>\n",
       "      <td>MN</td>\n",
       "      <td>55345</td>\n",
       "      <td>10/1/2021</td>\n",
       "      <td>TESLA</td>\n",
       "      <td>MODEL 3</td>\n",
       "      <td>2018</td>\n",
       "      <td>BEV</td>\n",
       "      <td>1</td>\n",
       "      <td>Light-Duty (Class 1-2A)</td>\n",
       "      <td>1</td>\n",
       "      <td>5</td>\n",
       "      <td>DMV Snapshot (2/1/2022)</td>\n",
       "      <td>False</td>\n",
       "      <td>2021.0</td>\n",
       "    </tr>\n",
       "    <tr>\n",
       "      <th>2</th>\n",
       "      <td>MN</td>\n",
       "      <td>55077</td>\n",
       "      <td>10/1/2021</td>\n",
       "      <td>TESLA</td>\n",
       "      <td>MODEL 3</td>\n",
       "      <td>2018</td>\n",
       "      <td>BEV</td>\n",
       "      <td>1</td>\n",
       "      <td>Light-Duty (Class 1-2A)</td>\n",
       "      <td>1</td>\n",
       "      <td>5</td>\n",
       "      <td>DMV Snapshot (2/1/2022)</td>\n",
       "      <td>False</td>\n",
       "      <td>2021.0</td>\n",
       "    </tr>\n",
       "    <tr>\n",
       "      <th>3</th>\n",
       "      <td>MN</td>\n",
       "      <td>55344</td>\n",
       "      <td>10/1/2021</td>\n",
       "      <td>TESLA</td>\n",
       "      <td>MODEL 3</td>\n",
       "      <td>2018</td>\n",
       "      <td>BEV</td>\n",
       "      <td>1</td>\n",
       "      <td>Light-Duty (Class 1-2A)</td>\n",
       "      <td>1</td>\n",
       "      <td>5</td>\n",
       "      <td>DMV Snapshot (2/1/2022)</td>\n",
       "      <td>False</td>\n",
       "      <td>2021.0</td>\n",
       "    </tr>\n",
       "    <tr>\n",
       "      <th>4</th>\n",
       "      <td>MN</td>\n",
       "      <td>55416</td>\n",
       "      <td>10/1/2021</td>\n",
       "      <td>TESLA</td>\n",
       "      <td>MODEL 3</td>\n",
       "      <td>2018</td>\n",
       "      <td>BEV</td>\n",
       "      <td>1</td>\n",
       "      <td>Light-Duty (Class 1-2A)</td>\n",
       "      <td>1</td>\n",
       "      <td>5</td>\n",
       "      <td>DMV Snapshot (2/1/2022)</td>\n",
       "      <td>False</td>\n",
       "      <td>2021.0</td>\n",
       "    </tr>\n",
       "  </tbody>\n",
       "</table>\n",
       "</div>"
      ],
      "text/plain": [
       "  State ZIP Code Registration Date Vehicle Make Vehicle Model  \\\n",
       "0    MN    55337         10/1/2021        TESLA       MODEL 3   \n",
       "1    MN    55345         10/1/2021        TESLA       MODEL 3   \n",
       "2    MN    55077         10/1/2021        TESLA       MODEL 3   \n",
       "3    MN    55344         10/1/2021        TESLA       MODEL 3   \n",
       "4    MN    55416         10/1/2021        TESLA       MODEL 3   \n",
       "\n",
       "   Vehicle Model Year Drivetrain Type Vehicle GVWR Class  \\\n",
       "0                2018             BEV                  1   \n",
       "1                2018             BEV                  1   \n",
       "2                2018             BEV                  1   \n",
       "3                2018             BEV                  1   \n",
       "4                2018             BEV                  1   \n",
       "\n",
       "          Vehicle Category  Vehicle Count  DMV Snapshot ID  \\\n",
       "0  Light-Duty (Class 1-2A)              1                5   \n",
       "1  Light-Duty (Class 1-2A)              1                5   \n",
       "2  Light-Duty (Class 1-2A)              1                5   \n",
       "3  Light-Duty (Class 1-2A)              1                5   \n",
       "4  Light-Duty (Class 1-2A)              1                5   \n",
       "\n",
       "       DMV Snapshot (Date)  Latest DMV Snapshot Flag  registration_year  \n",
       "0  DMV Snapshot (2/1/2022)                     False             2021.0  \n",
       "1  DMV Snapshot (2/1/2022)                     False             2021.0  \n",
       "2  DMV Snapshot (2/1/2022)                     False             2021.0  \n",
       "3  DMV Snapshot (2/1/2022)                     False             2021.0  \n",
       "4  DMV Snapshot (2/1/2022)                     False             2021.0  "
      ]
     },
     "execution_count": 7,
     "metadata": {},
     "output_type": "execute_result"
    }
   ],
   "source": [
    "df_ev.head()\n"
   ]
  },
  {
   "cell_type": "code",
   "execution_count": 8,
   "id": "09b06734-cf1c-49b4-a7c5-b52514e7fe8a",
   "metadata": {},
   "outputs": [],
   "source": [
    "sales_count=df_ev['Vehicle Make'].value_counts()"
   ]
  },
  {
   "cell_type": "code",
   "execution_count": 9,
   "id": "79f12242-339e-4ca2-a43c-129b7854cc5d",
   "metadata": {},
   "outputs": [],
   "source": [
    "more_100=sales_count[sales_count > 100].index\n"
   ]
  },
  {
   "cell_type": "code",
   "execution_count": 10,
   "id": "79659ffb-93e4-4c32-b42a-2c6dba6904ff",
   "metadata": {},
   "outputs": [
    {
     "data": {
      "text/plain": [
       "Index(['TESLA', 'CHEVROLET', 'FORD', 'NISSAN', 'VOLVO', 'BMW', 'TOYOTA',\n",
       "       'CHRYSLER', 'JEEP', 'AUDI', 'VOLKSWAGEN', 'MITSUBISHI', 'KIA',\n",
       "       'HYUNDAI', 'PORSCHE', 'RIVIAN', 'HONDA', 'POLESTAR', 'GEM', 'MINI',\n",
       "       'MERCEDES-BENZ', 'LINCOLN', 'FIAT', 'SUBARU', 'POLARIS', 'JAGUAR',\n",
       "       'MAZDA', 'E-SUV', 'CADILLAC', 'LUCID', 'SMART', 'LAND ROVER', 'LEXUS',\n",
       "       'GMC', 'FISKER', 'GENESIS'],\n",
       "      dtype='object', name='Vehicle Make')"
      ]
     },
     "execution_count": 10,
     "metadata": {},
     "output_type": "execute_result"
    }
   ],
   "source": [
    "more_100"
   ]
  },
  {
   "cell_type": "code",
   "execution_count": 11,
   "id": "1a581a7e-235f-400d-a769-c8ad21011acf",
   "metadata": {},
   "outputs": [],
   "source": [
    "df_filter= df_ev[df_ev['Vehicle Make'].isin(more_100)]"
   ]
  },
  {
   "cell_type": "code",
   "execution_count": 12,
   "id": "d2a7ee9c-9c73-43e9-ab8d-3cb80f7e268e",
   "metadata": {},
   "outputs": [
    {
     "name": "stdout",
     "output_type": "stream",
     "text": [
      "The filtered data has been saved to data/FILTERED_MN_EV_Registrations.csv.\n"
     ]
    }
   ],
   "source": [
    "columns_required = ['ZIP Code', 'Vehicle Make', 'Vehicle Model', 'registration_year', 'Vehicle Model Year']\n",
    "df_filter = df_filter[columns_required]\n",
    "output_file_path = 'data/FILTERED_MN_EV_Registrations.csv'\n",
    "df_filter.to_csv(output_file_path, index=False)\n",
    "\n",
    "print(f'The filtered data has been saved to {output_file_path}.')"
   ]
  },
  {
   "cell_type": "code",
   "execution_count": 13,
   "id": "b3331d1d-9a45-4b01-b03e-382fd6fe460c",
   "metadata": {},
   "outputs": [],
   "source": [
    "data=pd.read_csv('/home/jovyan/mcis6273-f24-datamining/homework/hw2/data/FILTERED_MN_EV_Registrations.csv')"
   ]
  },
  {
   "cell_type": "code",
   "execution_count": 14,
   "id": "1a636ba5-402f-4091-951c-e9db92b656d0",
   "metadata": {},
   "outputs": [
    {
     "data": {
      "text/plain": [
       "ZIP Code              0\n",
       "Vehicle Make          0\n",
       "Vehicle Model         0\n",
       "registration_year     2\n",
       "Vehicle Model Year    0\n",
       "dtype: int64"
      ]
     },
     "execution_count": 14,
     "metadata": {},
     "output_type": "execute_result"
    }
   ],
   "source": [
    "data.isnull().sum()"
   ]
  },
  {
   "cell_type": "code",
   "execution_count": 15,
   "id": "0bcb4d77-ad07-426f-b00d-fcbec0b76e84",
   "metadata": {},
   "outputs": [
    {
     "data": {
      "image/png": "[encoded data removed]",
      "text/plain": [
       "<Figure size 600x600 with 1 Axes>"
      ]
     },
     "metadata": {},
     "output_type": "display_data"
    }
   ],
   "source": [
    "# Filter out rows where 'registration_year' is NaN\n",
    "bar_chart = data.dropna(subset=['registration_year'])\n",
    "\n",
    "# Convert 'registration_year' to integers\n",
    "bar_chart['registration_year'] = bar_chart['registration_year'].astype(int)\n",
    "\n",
    "# Now, calculate the frequency of registrations per year\n",
    "registration_counts = bar_chart['registration_year'].value_counts().sort_index()\n",
    "\n",
    "# Create the bar graph\n",
    "plt.figure(figsize=(6, 6))\n",
    "registration_counts.plot(kind='bar')\n",
    "plt.title('Frequency of EV Registrations by Year in Minnesota')\n",
    "plt.xlabel('Year')\n",
    "plt.ylabel('Number of Registrations')\n",
    "plt.xticks(rotation=45)\n",
    "plt.tight_layout()  # Adjust the layout to make room for the x-axis labels\n",
    "\n",
    "# Show the plot\n",
    "plt.show()\n"
   ]
  },
  {
   "cell_type": "code",
   "execution_count": 16,
   "id": "e193d2e3-1da1-4c8a-bb7a-a01c2a59920b",
   "metadata": {},
   "outputs": [
    {
     "name": "stdout",
     "output_type": "stream",
     "text": [
      "The year with the most registrations is 2023 with 124220 registrations.\n"
     ]
    }
   ],
   "source": [
    "max_registrations_year = registration_counts.idxmax()\n",
    "max_registrations_count = registration_counts.max()\n",
    "\n",
    "print(f\"The year with the most registrations is {max_registrations_year} with {max_registrations_count} registrations.\")\n"
   ]
  },
  {
   "cell_type": "code",
   "execution_count": 17,
   "id": "e02db6c4-d383-4248-a514-ed9896ec9621",
   "metadata": {},
   "outputs": [
    {
     "name": "stdout",
     "output_type": "stream",
     "text": [
      "Registrations in 2018: 12389\n",
      "Registrations in 2019: 5425\n",
      "Did registrations slow down in 2019 compared to 2018? True\n"
     ]
    }
   ],
   "source": [
    "registrations_2018 = registration_counts.get(2018, 0)\n",
    "registrations_2019 = registration_counts.get(2019, 0)\n",
    "\n",
    "print(f\"Registrations in 2018: {registrations_2018}\")\n",
    "print(f\"Registrations in 2019: {registrations_2019}\")\n",
    "print(\"Did registrations slow down in 2019 compared to 2018?\", registrations_2019 < registrations_2018)\n"
   ]
  },
  {
   "cell_type": "markdown",
   "id": "3a73360f-1707-456d-95b7-ea2b972303fd",
   "metadata": {},
   "source": [
    "#### The largest number of new registrations was in 2023: The year with the most registrations is 2023, with a total of 124,347 registrations, which is the highest among all years displayed in the bar graph.\n",
    "\n",
    "#### The number of new registrations slowed in 2019: In 2018, there were 12,435 registrations, and this number decreased to 5,438 in 2019, which clearly indicates that the number of new registrations slowed down in 2019.\n",
    "\n"
   ]
  },
  {
   "cell_type": "code",
   "execution_count": 26,
   "id": "84daba40-694e-42fc-8c88-32a21c551cc4",
   "metadata": {},
   "outputs": [
    {
     "name": "stdout",
     "output_type": "stream",
     "text": [
      "Requirement already satisfied: geopandas in /opt/conda/envs/sau24s/lib/python3.8/site-packages (0.13.2)\n",
      "Requirement already satisfied: pyshp in /opt/conda/envs/sau24s/lib/python3.8/site-packages (2.3.1)\n",
      "Requirement already satisfied: fiona>=1.8.19 in /opt/conda/envs/sau24s/lib/python3.8/site-packages (from geopandas) (1.9.6)\n",
      "Requirement already satisfied: packaging in /opt/conda/envs/sau24s/lib/python3.8/site-packages (from geopandas) (23.2)\n",
      "Requirement already satisfied: pandas>=1.1.0 in /opt/conda/envs/sau24s/lib/python3.8/site-packages (from geopandas) (2.0.3)\n",
      "Requirement already satisfied: pyproj>=3.0.1 in /opt/conda/envs/sau24s/lib/python3.8/site-packages (from geopandas) (3.5.0)\n",
      "Requirement already satisfied: shapely>=1.7.1 in /opt/conda/envs/sau24s/lib/python3.8/site-packages (from geopandas) (1.8.4)\n",
      "Requirement already satisfied: attrs>=19.2.0 in /opt/conda/envs/sau24s/lib/python3.8/site-packages (from fiona>=1.8.19->geopandas) (23.2.0)\n",
      "Requirement already satisfied: certifi in /opt/conda/envs/sau24s/lib/python3.8/site-packages (from fiona>=1.8.19->geopandas) (2023.11.17)\n",
      "Requirement already satisfied: click~=8.0 in /opt/conda/envs/sau24s/lib/python3.8/site-packages (from fiona>=1.8.19->geopandas) (8.1.7)\n",
      "Requirement already satisfied: click-plugins>=1.0 in /opt/conda/envs/sau24s/lib/python3.8/site-packages (from fiona>=1.8.19->geopandas) (1.1.1)\n",
      "Requirement already satisfied: cligj>=0.5 in /opt/conda/envs/sau24s/lib/python3.8/site-packages (from fiona>=1.8.19->geopandas) (0.7.2)\n",
      "Requirement already satisfied: six in /opt/conda/envs/sau24s/lib/python3.8/site-packages (from fiona>=1.8.19->geopandas) (1.16.0)\n",
      "Requirement already satisfied: importlib-metadata in /opt/conda/envs/sau24s/lib/python3.8/site-packages (from fiona>=1.8.19->geopandas) (7.0.1)\n",
      "Requirement already satisfied: python-dateutil>=2.8.2 in /opt/conda/envs/sau24s/lib/python3.8/site-packages (from pandas>=1.1.0->geopandas) (2.8.2)\n",
      "Requirement already satisfied: pytz>=2020.1 in /opt/conda/envs/sau24s/lib/python3.8/site-packages (from pandas>=1.1.0->geopandas) (2023.3.post1)\n",
      "Requirement already satisfied: tzdata>=2022.1 in /opt/conda/envs/sau24s/lib/python3.8/site-packages (from pandas>=1.1.0->geopandas) (2024.1)\n",
      "Requirement already satisfied: numpy>=1.20.3 in /opt/conda/envs/sau24s/lib/python3.8/site-packages (from pandas>=1.1.0->geopandas) (1.24.4)\n",
      "Requirement already satisfied: zipp>=0.5 in /opt/conda/envs/sau24s/lib/python3.8/site-packages (from importlib-metadata->fiona>=1.8.19->geopandas) (3.17.0)\n"
     ]
    }
   ],
   "source": [
    "!pip install geopandas pyshp\n"
   ]
  },
  {
   "cell_type": "code",
   "execution_count": 27,
   "id": "27c201ff-ad98-4115-9358-8d3dd6d94f43",
   "metadata": {},
   "outputs": [],
   "source": [
    "import geopandas as gpd\n",
    "import pandas as pd"
   ]
  },
  {
   "cell_type": "code",
   "execution_count": 46,
   "id": "2921ce17-8ddc-4fb4-a5d6-3c7b8e5e1b3d",
   "metadata": {},
   "outputs": [
    {
     "name": "stdout",
     "output_type": "stream",
     "text": [
      "--2024-04-19 17:56:46--  https://resources.gisdata.mn.gov/pub/gdrs/data/pub/us_mn_state_metc/society_census_acs/shp_society_census_acs.zip\n",
      "Resolving resources.gisdata.mn.gov (resources.gisdata.mn.gov)... 151.111.166.32\n",
      "Connecting to resources.gisdata.mn.gov (resources.gisdata.mn.gov)|151.111.166.32|:443... connected.\n",
      "HTTP request sent, awaiting response... 200 OK\n",
      "Length: 5407585 (5.2M) [application/zip]\n",
      "Saving to: ‘shp_society_census_acs.zip’\n",
      "\n",
      "shp_society_census_ 100%[===================>]   5.16M  7.36MB/s    in 0.7s    \n",
      "\n",
      "2024-04-19 17:56:47 (7.36 MB/s) - ‘shp_society_census_acs.zip’ saved [5407585/5407585]\n",
      "\n"
     ]
    }
   ],
   "source": [
    "!wget https://resources.gisdata.mn.gov/pub/gdrs/data/pub/us_mn_state_metc/society_census_acs/shp_society_census_acs.zip"
   ]
  },
  {
   "cell_type": "code",
   "execution_count": 47,
   "id": "8c6fafb8-17bd-44db-ac14-0ad550dc41f1",
   "metadata": {},
   "outputs": [
    {
     "name": "stdout",
     "output_type": "stream",
     "text": [
      "--2024-04-19 17:57:01--  https://resources.gisdata.mn.gov/pub/gdrs/data/pub/us_mn_state_mngeo/bdry_zip_code_tabulation_areas/shp_bdry_zip_code_tabulation_areas.zip\n",
      "Resolving resources.gisdata.mn.gov (resources.gisdata.mn.gov)... 151.111.166.32\n",
      "Connecting to resources.gisdata.mn.gov (resources.gisdata.mn.gov)|151.111.166.32|:443... connected.\n",
      "HTTP request sent, awaiting response... 200 OK\n",
      "Length: 13822451 (13M) [application/zip]\n",
      "Saving to: ‘shp_bdry_zip_code_tabulation_areas.zip’\n",
      "\n",
      "shp_bdry_zip_code_t 100%[===================>]  13.18M  7.36MB/s    in 1.8s    \n",
      "\n",
      "2024-04-19 17:57:03 (7.36 MB/s) - ‘shp_bdry_zip_code_tabulation_areas.zip’ saved [13822451/13822451]\n",
      "\n"
     ]
    }
   ],
   "source": [
    "!wget https://resources.gisdata.mn.gov/pub/gdrs/data/pub/us_mn_state_mngeo/bdry_zip_code_tabulation_areas/shp_bdry_zip_code_tabulation_areas.zip"
   ]
  },
  {
   "cell_type": "code",
   "execution_count": 48,
   "id": "6a6c0f46-3b19-4672-bba2-7642278f5a1e",
   "metadata": {},
   "outputs": [
    {
     "name": "stdout",
     "output_type": "stream",
     "text": [
      "Archive:  shp_society_census_acs.zip\n",
      "  inflating: acs/CensusACSMCD.cpg    \n",
      "  inflating: acs/CensusACSBlockGroup.dbf.xml  \n",
      "  inflating: acs/CensusACSZipCode.dbf.xml  \n",
      "  inflating: acs/CensusACSTract.dbf.xml  \n",
      "  inflating: acs/CensusACSSchoolDistrict.dbf.xml  \n",
      "  inflating: acs/CensusACSSchoolDistrict.dbf  \n",
      "  inflating: acs/CensusACSBlockGroup.dbf  \n",
      "  inflating: acs/CensusACSSchoolDistrict.cpg  \n",
      "  inflating: acs/CensusACSMCD.dbf.xml  \n",
      "  inflating: acs/CensusACSTract.cpg  \n",
      "  inflating: acs/CensusACSTract.dbf  \n",
      "  inflating: acs/CensusACSZipCode.dbf  \n",
      "  inflating: acs/CensusACSZipCode.cpg  \n",
      "  inflating: acs/CensusACSMCD.dbf    \n",
      "  inflating: acs/CensusACSBlockGroup.cpg  \n",
      "  inflating: acs/metadata/metadata.html  \n",
      "  inflating: acs/metadata/metadata.xml  \n"
     ]
    }
   ],
   "source": [
    "!mkdir acs && unzip shp_society_census_acs.zip -d acs"
   ]
  },
  {
   "cell_type": "code",
   "execution_count": 49,
   "id": "0186f112-ea81-4546-ae92-7a81d4997257",
   "metadata": {},
   "outputs": [
    {
     "name": "stdout",
     "output_type": "stream",
     "text": [
      "Archive:  shp_bdry_zip_code_tabulation_areas.zip\n",
      "  inflating: shp/zip_code_tabulation_areas.shp  \n",
      "  inflating: shp/zip_code_tabulation_areas.shp.xml  \n",
      "  inflating: shp/zip_code_tabulation_areas.shx  \n",
      "  inflating: shp/zip_code_tabulation_areas.prj  \n",
      "  inflating: shp/zip_code_tabulation_areas.cpg  \n",
      "  inflating: shp/zip_code_tabulation_areas.sbn  \n",
      "  inflating: shp/zip_code_tabulation_areas.sbx  \n",
      "  inflating: shp/zip_code_tabulation_areas.dbf  \n",
      "  inflating: shp/metadata/metadata.html  \n",
      "  inflating: shp/metadata/metadata.xml  \n",
      "  inflating: shp/metadata/preview.jpg  \n"
     ]
    }
   ],
   "source": [
    "!mkdir shp && unzip shp_bdry_zip_code_tabulation_areas.zip -d shp"
   ]
  },
  {
   "cell_type": "code",
   "execution_count": 50,
   "id": "d71e9778-c15e-44fd-a713-b9f77ed6e159",
   "metadata": {},
   "outputs": [],
   "source": [
    "df = gpd.read_file(\"shp/\")"
   ]
  },
  {
   "cell_type": "code",
   "execution_count": 51,
   "id": "706a402c-080e-4b77-b1eb-1f238a3e48b8",
   "metadata": {},
   "outputs": [
    {
     "data": {
      "text/html": [
       "<div>\n",
       "<style scoped>\n",
       "    .dataframe tbody tr th:only-of-type {\n",
       "        vertical-align: middle;\n",
       "    }\n",
       "\n",
       "    .dataframe tbody tr th {\n",
       "        vertical-align: top;\n",
       "    }\n",
       "\n",
       "    .dataframe thead th {\n",
       "        text-align: right;\n",
       "    }\n",
       "</style>\n",
       "<table border=\"1\" class=\"dataframe\">\n",
       "  <thead>\n",
       "    <tr style=\"text-align: right;\">\n",
       "      <th></th>\n",
       "      <th>ZCTA5CE20</th>\n",
       "      <th>GEOID20</th>\n",
       "      <th>CLASSFP20</th>\n",
       "      <th>MTFCC20</th>\n",
       "      <th>FUNCSTAT20</th>\n",
       "      <th>ALAND20</th>\n",
       "      <th>AWATER20</th>\n",
       "      <th>INTPTLAT20</th>\n",
       "      <th>INTPTLON20</th>\n",
       "      <th>Shape_Leng</th>\n",
       "      <th>Shape_Area</th>\n",
       "      <th>geometry</th>\n",
       "    </tr>\n",
       "  </thead>\n",
       "  <tbody>\n",
       "    <tr>\n",
       "      <th>0</th>\n",
       "      <td>58225</td>\n",
       "      <td>58225</td>\n",
       "      <td>B5</td>\n",
       "      <td>G6350</td>\n",
       "      <td>S</td>\n",
       "      <td>606125347.0</td>\n",
       "      <td>6393582.0</td>\n",
       "      <td>+48.6112378</td>\n",
       "      <td>-097.2227786</td>\n",
       "      <td>2.161931</td>\n",
       "      <td>0.074699</td>\n",
       "      <td>POLYGON ((-97.42610 48.71765, -97.42606 48.717...</td>\n",
       "    </tr>\n",
       "    <tr>\n",
       "      <th>1</th>\n",
       "      <td>58030</td>\n",
       "      <td>58030</td>\n",
       "      <td>B5</td>\n",
       "      <td>G6350</td>\n",
       "      <td>S</td>\n",
       "      <td>340133596.0</td>\n",
       "      <td>0.0</td>\n",
       "      <td>+46.0303340</td>\n",
       "      <td>-096.6681855</td>\n",
       "      <td>0.986934</td>\n",
       "      <td>0.039525</td>\n",
       "      <td>POLYGON ((-96.80449 46.06586, -96.80142 46.065...</td>\n",
       "    </tr>\n",
       "    <tr>\n",
       "      <th>2</th>\n",
       "      <td>56744</td>\n",
       "      <td>56744</td>\n",
       "      <td>B5</td>\n",
       "      <td>G6350</td>\n",
       "      <td>S</td>\n",
       "      <td>248778008.0</td>\n",
       "      <td>4597395.0</td>\n",
       "      <td>+48.2325749</td>\n",
       "      <td>-097.1171828</td>\n",
       "      <td>1.619517</td>\n",
       "      <td>0.030674</td>\n",
       "      <td>POLYGON ((-97.20443 48.21641, -97.20007 48.216...</td>\n",
       "    </tr>\n",
       "    <tr>\n",
       "      <th>3</th>\n",
       "      <td>57030</td>\n",
       "      <td>57030</td>\n",
       "      <td>B5</td>\n",
       "      <td>G6350</td>\n",
       "      <td>S</td>\n",
       "      <td>343925640.0</td>\n",
       "      <td>1017610.0</td>\n",
       "      <td>+43.7357247</td>\n",
       "      <td>-096.5437100</td>\n",
       "      <td>1.317356</td>\n",
       "      <td>0.038536</td>\n",
       "      <td>POLYGON ((-96.69131 43.67476, -96.69131 43.674...</td>\n",
       "    </tr>\n",
       "    <tr>\n",
       "      <th>4</th>\n",
       "      <td>56164</td>\n",
       "      <td>56164</td>\n",
       "      <td>B5</td>\n",
       "      <td>G6350</td>\n",
       "      <td>S</td>\n",
       "      <td>622930148.0</td>\n",
       "      <td>720071.0</td>\n",
       "      <td>+44.0538343</td>\n",
       "      <td>-096.3330076</td>\n",
       "      <td>1.873075</td>\n",
       "      <td>0.070037</td>\n",
       "      <td>POLYGON ((-96.50638 43.93486, -96.50638 43.934...</td>\n",
       "    </tr>\n",
       "  </tbody>\n",
       "</table>\n",
       "</div>"
      ],
      "text/plain": [
       "  ZCTA5CE20 GEOID20 CLASSFP20 MTFCC20 FUNCSTAT20      ALAND20   AWATER20  \\\n",
       "0     58225   58225        B5   G6350          S  606125347.0  6393582.0   \n",
       "1     58030   58030        B5   G6350          S  340133596.0        0.0   \n",
       "2     56744   56744        B5   G6350          S  248778008.0  4597395.0   \n",
       "3     57030   57030        B5   G6350          S  343925640.0  1017610.0   \n",
       "4     56164   56164        B5   G6350          S  622930148.0   720071.0   \n",
       "\n",
       "    INTPTLAT20    INTPTLON20  Shape_Leng  Shape_Area  \\\n",
       "0  +48.6112378  -097.2227786    2.161931    0.074699   \n",
       "1  +46.0303340  -096.6681855    0.986934    0.039525   \n",
       "2  +48.2325749  -097.1171828    1.619517    0.030674   \n",
       "3  +43.7357247  -096.5437100    1.317356    0.038536   \n",
       "4  +44.0538343  -096.3330076    1.873075    0.070037   \n",
       "\n",
       "                                            geometry  \n",
       "0  POLYGON ((-97.42610 48.71765, -97.42606 48.717...  \n",
       "1  POLYGON ((-96.80449 46.06586, -96.80142 46.065...  \n",
       "2  POLYGON ((-97.20443 48.21641, -97.20007 48.216...  \n",
       "3  POLYGON ((-96.69131 43.67476, -96.69131 43.674...  \n",
       "4  POLYGON ((-96.50638 43.93486, -96.50638 43.934...  "
      ]
     },
     "execution_count": 51,
     "metadata": {},
     "output_type": "execute_result"
    }
   ],
   "source": [
    "df.head()"
   ]
  },
  {
   "cell_type": "code",
   "execution_count": 52,
   "id": "45201018-d308-4ffd-ba22-8c38cc1c0677",
   "metadata": {},
   "outputs": [
    {
     "data": {
      "text/plain": [
       "Index(['ZCTA5CE20', 'GEOID20', 'CLASSFP20', 'MTFCC20', 'FUNCSTAT20', 'ALAND20',\n",
       "       'AWATER20', 'INTPTLAT20', 'INTPTLON20', 'Shape_Leng', 'Shape_Area',\n",
       "       'geometry'],\n",
       "      dtype='object')"
      ]
     },
     "execution_count": 52,
     "metadata": {},
     "output_type": "execute_result"
    }
   ],
   "source": [
    "df.columns"
   ]
  },
  {
   "cell_type": "code",
   "execution_count": 53,
   "id": "3e25d04a-a52a-4137-be72-9db3799408b7",
   "metadata": {},
   "outputs": [
    {
     "data": {
      "text/plain": [
       "<Axes: >"
      ]
     },
     "execution_count": 53,
     "metadata": {},
     "output_type": "execute_result"
    },
    {
     "data": {
      "image/png": "[encoded data removed]",
      "text/plain": [
       "<Figure size 640x480 with 1 Axes>"
      ]
     },
     "metadata": {},
     "output_type": "display_data"
    }
   ],
   "source": [
    "df.plot()"
   ]
  },
  {
   "cell_type": "code",
   "execution_count": 54,
   "id": "0035d933-7ef4-4799-adee-97b02f02b8b4",
   "metadata": {},
   "outputs": [],
   "source": [
    "df_acs = gpd.read_file(\"acs/CensusACSZipCode.dbf\")"
   ]
  },
  {
   "cell_type": "code",
   "execution_count": 55,
   "id": "fcc09dc9-ac8c-4937-aa7b-18cab2e68b7f",
   "metadata": {},
   "outputs": [
    {
     "data": {
      "text/plain": [
       "(887, 12)"
      ]
     },
     "execution_count": 55,
     "metadata": {},
     "output_type": "execute_result"
    }
   ],
   "source": [
    "df.shape"
   ]
  },
  {
   "cell_type": "code",
   "execution_count": 57,
   "id": "e6147e4a-daba-41b6-ad1c-ef0e7f228c13",
   "metadata": {},
   "outputs": [
    {
     "data": {
      "text/plain": [
       "(1016, 220)"
      ]
     },
     "execution_count": 57,
     "metadata": {},
     "output_type": "execute_result"
    }
   ],
   "source": [
    "df_acs.shape"
   ]
  },
  {
   "cell_type": "code",
   "execution_count": 58,
   "id": "e4f2e733-3b10-451a-926e-8a934bd18c40",
   "metadata": {},
   "outputs": [
    {
     "data": {
      "text/html": [
       "<div>\n",
       "<style scoped>\n",
       "    .dataframe tbody tr th:only-of-type {\n",
       "        vertical-align: middle;\n",
       "    }\n",
       "\n",
       "    .dataframe tbody tr th {\n",
       "        vertical-align: top;\n",
       "    }\n",
       "\n",
       "    .dataframe thead th {\n",
       "        text-align: right;\n",
       "    }\n",
       "</style>\n",
       "<table border=\"1\" class=\"dataframe\">\n",
       "  <thead>\n",
       "    <tr style=\"text-align: right;\">\n",
       "      <th></th>\n",
       "      <th>GEOG_UNIT</th>\n",
       "      <th>GEOG_LEVEL</th>\n",
       "      <th>GEOID</th>\n",
       "      <th>GEOID2</th>\n",
       "      <th>SUMLEV</th>\n",
       "      <th>GEONAME</th>\n",
       "      <th>GEOCOMP</th>\n",
       "      <th>HUINTRVWS</th>\n",
       "      <th>PERINTRVWS</th>\n",
       "      <th>SOURCE</th>\n",
       "      <th>...</th>\n",
       "      <th>POP234</th>\n",
       "      <th>POPMF5</th>\n",
       "      <th>POPMOBILE</th>\n",
       "      <th>POPOTHER</th>\n",
       "      <th>PPHSF</th>\n",
       "      <th>PPH234</th>\n",
       "      <th>PPHMF5</th>\n",
       "      <th>PPHMOBILE</th>\n",
       "      <th>PPHOTHER</th>\n",
       "      <th>geometry</th>\n",
       "    </tr>\n",
       "  </thead>\n",
       "  <tbody>\n",
       "    <tr>\n",
       "      <th>0</th>\n",
       "      <td>54001</td>\n",
       "      <td>ZCTA</td>\n",
       "      <td>860Z200US54001</td>\n",
       "      <td>54001</td>\n",
       "      <td>860</td>\n",
       "      <td>ZCTA5 54001</td>\n",
       "      <td>00</td>\n",
       "      <td>None</td>\n",
       "      <td>None</td>\n",
       "      <td>ACS 2018-2022</td>\n",
       "      <td>...</td>\n",
       "      <td>157.0</td>\n",
       "      <td>161.0</td>\n",
       "      <td>575.0</td>\n",
       "      <td>13.0</td>\n",
       "      <td>2.58</td>\n",
       "      <td>2.01</td>\n",
       "      <td>1.01</td>\n",
       "      <td>2.05</td>\n",
       "      <td>1.86</td>\n",
       "      <td>None</td>\n",
       "    </tr>\n",
       "    <tr>\n",
       "      <th>1</th>\n",
       "      <td>54002</td>\n",
       "      <td>ZCTA</td>\n",
       "      <td>860Z200US54002</td>\n",
       "      <td>54002</td>\n",
       "      <td>860</td>\n",
       "      <td>ZCTA5 54002</td>\n",
       "      <td>00</td>\n",
       "      <td>None</td>\n",
       "      <td>None</td>\n",
       "      <td>ACS 2018-2022</td>\n",
       "      <td>...</td>\n",
       "      <td>503.0</td>\n",
       "      <td>116.0</td>\n",
       "      <td>112.0</td>\n",
       "      <td>0.0</td>\n",
       "      <td>2.77</td>\n",
       "      <td>2.17</td>\n",
       "      <td>1.00</td>\n",
       "      <td>1.81</td>\n",
       "      <td>0.00</td>\n",
       "      <td>None</td>\n",
       "    </tr>\n",
       "    <tr>\n",
       "      <th>2</th>\n",
       "      <td>54003</td>\n",
       "      <td>ZCTA</td>\n",
       "      <td>860Z200US54003</td>\n",
       "      <td>54003</td>\n",
       "      <td>860</td>\n",
       "      <td>ZCTA5 54003</td>\n",
       "      <td>00</td>\n",
       "      <td>None</td>\n",
       "      <td>None</td>\n",
       "      <td>ACS 2018-2022</td>\n",
       "      <td>...</td>\n",
       "      <td>8.0</td>\n",
       "      <td>0.0</td>\n",
       "      <td>50.0</td>\n",
       "      <td>0.0</td>\n",
       "      <td>2.87</td>\n",
       "      <td>4.00</td>\n",
       "      <td>0.00</td>\n",
       "      <td>1.61</td>\n",
       "      <td>0.00</td>\n",
       "      <td>None</td>\n",
       "    </tr>\n",
       "    <tr>\n",
       "      <th>3</th>\n",
       "      <td>54004</td>\n",
       "      <td>ZCTA</td>\n",
       "      <td>860Z200US54004</td>\n",
       "      <td>54004</td>\n",
       "      <td>860</td>\n",
       "      <td>ZCTA5 54004</td>\n",
       "      <td>00</td>\n",
       "      <td>None</td>\n",
       "      <td>None</td>\n",
       "      <td>ACS 2018-2022</td>\n",
       "      <td>...</td>\n",
       "      <td>62.0</td>\n",
       "      <td>23.0</td>\n",
       "      <td>207.0</td>\n",
       "      <td>0.0</td>\n",
       "      <td>2.43</td>\n",
       "      <td>1.94</td>\n",
       "      <td>1.64</td>\n",
       "      <td>2.76</td>\n",
       "      <td>0.00</td>\n",
       "      <td>None</td>\n",
       "    </tr>\n",
       "    <tr>\n",
       "      <th>4</th>\n",
       "      <td>54005</td>\n",
       "      <td>ZCTA</td>\n",
       "      <td>860Z200US54005</td>\n",
       "      <td>54005</td>\n",
       "      <td>860</td>\n",
       "      <td>ZCTA5 54005</td>\n",
       "      <td>00</td>\n",
       "      <td>None</td>\n",
       "      <td>None</td>\n",
       "      <td>ACS 2018-2022</td>\n",
       "      <td>...</td>\n",
       "      <td>16.0</td>\n",
       "      <td>70.0</td>\n",
       "      <td>217.0</td>\n",
       "      <td>0.0</td>\n",
       "      <td>2.69</td>\n",
       "      <td>2.29</td>\n",
       "      <td>1.11</td>\n",
       "      <td>2.97</td>\n",
       "      <td>0.00</td>\n",
       "      <td>None</td>\n",
       "    </tr>\n",
       "  </tbody>\n",
       "</table>\n",
       "<p>5 rows × 220 columns</p>\n",
       "</div>"
      ],
      "text/plain": [
       "  GEOG_UNIT GEOG_LEVEL           GEOID GEOID2 SUMLEV      GEONAME GEOCOMP  \\\n",
       "0     54001       ZCTA  860Z200US54001  54001    860  ZCTA5 54001      00   \n",
       "1     54002       ZCTA  860Z200US54002  54002    860  ZCTA5 54002      00   \n",
       "2     54003       ZCTA  860Z200US54003  54003    860  ZCTA5 54003      00   \n",
       "3     54004       ZCTA  860Z200US54004  54004    860  ZCTA5 54004      00   \n",
       "4     54005       ZCTA  860Z200US54005  54005    860  ZCTA5 54005      00   \n",
       "\n",
       "  HUINTRVWS PERINTRVWS         SOURCE  ... POP234  POPMF5  POPMOBILE  \\\n",
       "0      None       None  ACS 2018-2022  ...  157.0   161.0      575.0   \n",
       "1      None       None  ACS 2018-2022  ...  503.0   116.0      112.0   \n",
       "2      None       None  ACS 2018-2022  ...    8.0     0.0       50.0   \n",
       "3      None       None  ACS 2018-2022  ...   62.0    23.0      207.0   \n",
       "4      None       None  ACS 2018-2022  ...   16.0    70.0      217.0   \n",
       "\n",
       "   POPOTHER  PPHSF  PPH234  PPHMF5  PPHMOBILE  PPHOTHER  geometry  \n",
       "0      13.0   2.58    2.01    1.01       2.05      1.86      None  \n",
       "1       0.0   2.77    2.17    1.00       1.81      0.00      None  \n",
       "2       0.0   2.87    4.00    0.00       1.61      0.00      None  \n",
       "3       0.0   2.43    1.94    1.64       2.76      0.00      None  \n",
       "4       0.0   2.69    2.29    1.11       2.97      0.00      None  \n",
       "\n",
       "[5 rows x 220 columns]"
      ]
     },
     "execution_count": 58,
     "metadata": {},
     "output_type": "execute_result"
    }
   ],
   "source": [
    "df_acs.head()"
   ]
  },
  {
   "cell_type": "code",
   "execution_count": 59,
   "id": "b9578326-dd17-4466-a4c7-da2aa9984adb",
   "metadata": {},
   "outputs": [
    {
     "data": {
      "text/plain": [
       "0      58225\n",
       "1      58030\n",
       "2      56744\n",
       "3      57030\n",
       "4      56164\n",
       "       ...  \n",
       "882    56723\n",
       "883    55431\n",
       "884    56287\n",
       "885    56121\n",
       "886    56140\n",
       "Name: GEOID20, Length: 887, dtype: object"
      ]
     },
     "execution_count": 59,
     "metadata": {},
     "output_type": "execute_result"
    }
   ],
   "source": [
    "df.GEOID20"
   ]
  },
  {
   "cell_type": "code",
   "execution_count": 60,
   "id": "a1200ebb-2e1c-4ba5-b486-6c63ff405923",
   "metadata": {},
   "outputs": [
    {
     "data": {
      "text/plain": [
       "0       54001\n",
       "1       54002\n",
       "2       54003\n",
       "3       54004\n",
       "4       54005\n",
       "        ...  \n",
       "1011    56759\n",
       "1012    56760\n",
       "1013    56761\n",
       "1014    56762\n",
       "1015    56763\n",
       "Name: GEOID2, Length: 1016, dtype: object"
      ]
     },
     "execution_count": 60,
     "metadata": {},
     "output_type": "execute_result"
    }
   ],
   "source": [
    "df_acs.GEOID2"
   ]
  },
  {
   "cell_type": "code",
   "execution_count": 61,
   "id": "488542c1-f5e3-4f77-9d47-8a6a18176541",
   "metadata": {},
   "outputs": [],
   "source": [
    "df_merged = df.merge(gpd.GeoDataFrame(df_acs), left_on=\"GEOID20\", right_on=\"GEOID2\")"
   ]
  },
  {
   "cell_type": "code",
   "execution_count": 62,
   "id": "a392763a-98f1-424e-acb7-f6ede2452596",
   "metadata": {},
   "outputs": [
    {
     "data": {
      "text/html": [
       "<div>\n",
       "<style scoped>\n",
       "    .dataframe tbody tr th:only-of-type {\n",
       "        vertical-align: middle;\n",
       "    }\n",
       "\n",
       "    .dataframe tbody tr th {\n",
       "        vertical-align: top;\n",
       "    }\n",
       "\n",
       "    .dataframe thead th {\n",
       "        text-align: right;\n",
       "    }\n",
       "</style>\n",
       "<table border=\"1\" class=\"dataframe\">\n",
       "  <thead>\n",
       "    <tr style=\"text-align: right;\">\n",
       "      <th></th>\n",
       "      <th>ZCTA5CE20</th>\n",
       "      <th>GEOID20</th>\n",
       "      <th>CLASSFP20</th>\n",
       "      <th>MTFCC20</th>\n",
       "      <th>FUNCSTAT20</th>\n",
       "      <th>ALAND20</th>\n",
       "      <th>AWATER20</th>\n",
       "      <th>INTPTLAT20</th>\n",
       "      <th>INTPTLON20</th>\n",
       "      <th>Shape_Leng</th>\n",
       "      <th>...</th>\n",
       "      <th>POP234</th>\n",
       "      <th>POPMF5</th>\n",
       "      <th>POPMOBILE</th>\n",
       "      <th>POPOTHER</th>\n",
       "      <th>PPHSF</th>\n",
       "      <th>PPH234</th>\n",
       "      <th>PPHMF5</th>\n",
       "      <th>PPHMOBILE</th>\n",
       "      <th>PPHOTHER</th>\n",
       "      <th>geometry_y</th>\n",
       "    </tr>\n",
       "  </thead>\n",
       "  <tbody>\n",
       "    <tr>\n",
       "      <th>0</th>\n",
       "      <td>56744</td>\n",
       "      <td>56744</td>\n",
       "      <td>B5</td>\n",
       "      <td>G6350</td>\n",
       "      <td>S</td>\n",
       "      <td>248778008.0</td>\n",
       "      <td>4597395.0</td>\n",
       "      <td>+48.2325749</td>\n",
       "      <td>-097.1171828</td>\n",
       "      <td>1.619517</td>\n",
       "      <td>...</td>\n",
       "      <td>20.0</td>\n",
       "      <td>0.0</td>\n",
       "      <td>152.0</td>\n",
       "      <td>0.0</td>\n",
       "      <td>2.16</td>\n",
       "      <td>5.00</td>\n",
       "      <td>0.00</td>\n",
       "      <td>3.90</td>\n",
       "      <td>0.0</td>\n",
       "      <td>None</td>\n",
       "    </tr>\n",
       "    <tr>\n",
       "      <th>1</th>\n",
       "      <td>56164</td>\n",
       "      <td>56164</td>\n",
       "      <td>B5</td>\n",
       "      <td>G6350</td>\n",
       "      <td>S</td>\n",
       "      <td>622930148.0</td>\n",
       "      <td>720071.0</td>\n",
       "      <td>+44.0538343</td>\n",
       "      <td>-096.3330076</td>\n",
       "      <td>1.873075</td>\n",
       "      <td>...</td>\n",
       "      <td>96.0</td>\n",
       "      <td>368.0</td>\n",
       "      <td>61.0</td>\n",
       "      <td>0.0</td>\n",
       "      <td>2.48</td>\n",
       "      <td>1.13</td>\n",
       "      <td>1.44</td>\n",
       "      <td>1.56</td>\n",
       "      <td>0.0</td>\n",
       "      <td>None</td>\n",
       "    </tr>\n",
       "    <tr>\n",
       "      <th>2</th>\n",
       "      <td>56257</td>\n",
       "      <td>56257</td>\n",
       "      <td>B5</td>\n",
       "      <td>G6350</td>\n",
       "      <td>S</td>\n",
       "      <td>238523752.0</td>\n",
       "      <td>1729037.0</td>\n",
       "      <td>+44.9692575</td>\n",
       "      <td>-096.4021512</td>\n",
       "      <td>1.083409</td>\n",
       "      <td>...</td>\n",
       "      <td>0.0</td>\n",
       "      <td>0.0</td>\n",
       "      <td>10.0</td>\n",
       "      <td>0.0</td>\n",
       "      <td>2.42</td>\n",
       "      <td>0.00</td>\n",
       "      <td>0.00</td>\n",
       "      <td>3.33</td>\n",
       "      <td>0.0</td>\n",
       "      <td>None</td>\n",
       "    </tr>\n",
       "    <tr>\n",
       "      <th>3</th>\n",
       "      <td>56219</td>\n",
       "      <td>56219</td>\n",
       "      <td>B5</td>\n",
       "      <td>G6350</td>\n",
       "      <td>S</td>\n",
       "      <td>231328051.0</td>\n",
       "      <td>10745351.0</td>\n",
       "      <td>+45.5972898</td>\n",
       "      <td>-096.8178738</td>\n",
       "      <td>1.309592</td>\n",
       "      <td>...</td>\n",
       "      <td>5.0</td>\n",
       "      <td>21.0</td>\n",
       "      <td>23.0</td>\n",
       "      <td>0.0</td>\n",
       "      <td>2.58</td>\n",
       "      <td>1.00</td>\n",
       "      <td>1.31</td>\n",
       "      <td>2.09</td>\n",
       "      <td>0.0</td>\n",
       "      <td>None</td>\n",
       "    </tr>\n",
       "    <tr>\n",
       "      <th>4</th>\n",
       "      <td>56144</td>\n",
       "      <td>56144</td>\n",
       "      <td>B5</td>\n",
       "      <td>G6350</td>\n",
       "      <td>S</td>\n",
       "      <td>311265936.0</td>\n",
       "      <td>640627.0</td>\n",
       "      <td>+43.8385925</td>\n",
       "      <td>-096.3868026</td>\n",
       "      <td>1.253775</td>\n",
       "      <td>...</td>\n",
       "      <td>3.0</td>\n",
       "      <td>26.0</td>\n",
       "      <td>14.0</td>\n",
       "      <td>0.0</td>\n",
       "      <td>2.32</td>\n",
       "      <td>1.00</td>\n",
       "      <td>1.86</td>\n",
       "      <td>1.17</td>\n",
       "      <td>0.0</td>\n",
       "      <td>None</td>\n",
       "    </tr>\n",
       "  </tbody>\n",
       "</table>\n",
       "<p>5 rows × 232 columns</p>\n",
       "</div>"
      ],
      "text/plain": [
       "  ZCTA5CE20 GEOID20 CLASSFP20 MTFCC20 FUNCSTAT20      ALAND20    AWATER20  \\\n",
       "0     56744   56744        B5   G6350          S  248778008.0   4597395.0   \n",
       "1     56164   56164        B5   G6350          S  622930148.0    720071.0   \n",
       "2     56257   56257        B5   G6350          S  238523752.0   1729037.0   \n",
       "3     56219   56219        B5   G6350          S  231328051.0  10745351.0   \n",
       "4     56144   56144        B5   G6350          S  311265936.0    640627.0   \n",
       "\n",
       "    INTPTLAT20    INTPTLON20  Shape_Leng  ...  POP234 POPMF5 POPMOBILE  \\\n",
       "0  +48.2325749  -097.1171828    1.619517  ...    20.0    0.0     152.0   \n",
       "1  +44.0538343  -096.3330076    1.873075  ...    96.0  368.0      61.0   \n",
       "2  +44.9692575  -096.4021512    1.083409  ...     0.0    0.0      10.0   \n",
       "3  +45.5972898  -096.8178738    1.309592  ...     5.0   21.0      23.0   \n",
       "4  +43.8385925  -096.3868026    1.253775  ...     3.0   26.0      14.0   \n",
       "\n",
       "  POPOTHER PPHSF PPH234 PPHMF5 PPHMOBILE PPHOTHER geometry_y  \n",
       "0      0.0  2.16   5.00   0.00      3.90      0.0       None  \n",
       "1      0.0  2.48   1.13   1.44      1.56      0.0       None  \n",
       "2      0.0  2.42   0.00   0.00      3.33      0.0       None  \n",
       "3      0.0  2.58   1.00   1.31      2.09      0.0       None  \n",
       "4      0.0  2.32   1.00   1.86      1.17      0.0       None  \n",
       "\n",
       "[5 rows x 232 columns]"
      ]
     },
     "execution_count": 62,
     "metadata": {},
     "output_type": "execute_result"
    }
   ],
   "source": [
    "df_merged.head()"
   ]
  },
  {
   "cell_type": "code",
   "execution_count": 97,
   "id": "ab09c648-15fa-43a2-8fe6-46cf205d71da",
   "metadata": {},
   "outputs": [
    {
     "data": {
      "text/plain": [
       "(881, 233)"
      ]
     },
     "execution_count": 97,
     "metadata": {},
     "output_type": "execute_result"
    }
   ],
   "source": [
    "df_merged.shape"
   ]
  },
  {
   "cell_type": "code",
   "execution_count": 96,
   "id": "e54c39f9-ff16-48a5-93d9-f168c492905b",
   "metadata": {},
   "outputs": [
    {
     "data": {
      "text/plain": [
       "ZCTA5CE20            0\n",
       "GEOID20              0\n",
       "CLASSFP20            0\n",
       "MTFCC20              0\n",
       "FUNCSTAT20           0\n",
       "                  ... \n",
       "PPHMF5               0\n",
       "PPHMOBILE            0\n",
       "PPHOTHER             0\n",
       "geometry_y         881\n",
       "PERCENT_UNDER18      5\n",
       "Length: 233, dtype: int64"
      ]
     },
     "execution_count": 96,
     "metadata": {},
     "output_type": "execute_result"
    }
   ],
   "source": [
    "df_merged.isnull().sum()"
   ]
  },
  {
   "cell_type": "code",
   "execution_count": 63,
   "id": "66c6d510-ca40-46b0-a4c0-322695d424bb",
   "metadata": {},
   "outputs": [
    {
     "data": {
      "text/plain": [
       "0      None\n",
       "1      None\n",
       "2      None\n",
       "3      None\n",
       "4      None\n",
       "       ... \n",
       "876    None\n",
       "877    None\n",
       "878    None\n",
       "879    None\n",
       "880    None\n",
       "Name: geometry_y, Length: 881, dtype: geometry"
      ]
     },
     "execution_count": 63,
     "metadata": {},
     "output_type": "execute_result"
    }
   ],
   "source": [
    "df_merged.geometry_y"
   ]
  },
  {
   "cell_type": "code",
   "execution_count": 64,
   "id": "7e6f9ec9-9f2d-43f8-89e9-d4b3551da5b3",
   "metadata": {},
   "outputs": [
    {
     "data": {
      "text/plain": [
       "0      POLYGON ((-97.20443 48.21641, -97.20007 48.216...\n",
       "1      POLYGON ((-96.50638 43.93486, -96.50638 43.934...\n",
       "2      POLYGON ((-96.49632 44.91939, -96.49631 44.919...\n",
       "3      POLYGON ((-96.91975 45.57509, -96.91949 45.575...\n",
       "4      POLYGON ((-96.54721 43.84817, -96.54721 43.848...\n",
       "                             ...                        \n",
       "876    POLYGON ((-96.94484 47.84061, -96.94397 47.840...\n",
       "877    POLYGON ((-93.33159 44.79686, -93.33035 44.796...\n",
       "878    POLYGON ((-95.33104 44.46906, -95.33103 44.470...\n",
       "879    POLYGON ((-94.71429 43.51539, -94.71293 43.515...\n",
       "880    POLYGON ((-96.37113 43.90721, -96.37045 43.908...\n",
       "Name: geometry_x, Length: 881, dtype: geometry"
      ]
     },
     "execution_count": 64,
     "metadata": {},
     "output_type": "execute_result"
    }
   ],
   "source": [
    "df_merged.geometry_x"
   ]
  },
  {
   "cell_type": "code",
   "execution_count": 65,
   "id": "367596ff-f5fc-4751-9b59-5d2a20be08c0",
   "metadata": {},
   "outputs": [],
   "source": [
    "df_merged = df_merged.set_geometry(\"geometry_x\")"
   ]
  },
  {
   "cell_type": "code",
   "execution_count": 98,
   "id": "97eb2b78-1b73-418b-9e16-5c6c199a4ba6",
   "metadata": {},
   "outputs": [
    {
     "data": {
      "text/plain": [
       "0      POLYGON ((-97.20443 48.21641, -97.20007 48.216...\n",
       "1      POLYGON ((-96.50638 43.93486, -96.50638 43.934...\n",
       "2      POLYGON ((-96.49632 44.91939, -96.49631 44.919...\n",
       "3      POLYGON ((-96.91975 45.57509, -96.91949 45.575...\n",
       "4      POLYGON ((-96.54721 43.84817, -96.54721 43.848...\n",
       "                             ...                        \n",
       "876    POLYGON ((-96.94484 47.84061, -96.94397 47.840...\n",
       "877    POLYGON ((-93.33159 44.79686, -93.33035 44.796...\n",
       "878    POLYGON ((-95.33104 44.46906, -95.33103 44.470...\n",
       "879    POLYGON ((-94.71429 43.51539, -94.71293 43.515...\n",
       "880    POLYGON ((-96.37113 43.90721, -96.37045 43.908...\n",
       "Name: geometry_x, Length: 881, dtype: geometry"
      ]
     },
     "execution_count": 98,
     "metadata": {},
     "output_type": "execute_result"
    }
   ],
   "source": [
    "df_merged['geometry_x']"
   ]
  },
  {
   "cell_type": "code",
   "execution_count": 66,
   "id": "da1a8b9f-b9c5-48f4-96ae-9add74280d05",
   "metadata": {},
   "outputs": [
    {
     "data": {
      "text/plain": [
       "<Axes: >"
      ]
     },
     "execution_count": 66,
     "metadata": {},
     "output_type": "execute_result"
    },
    {
     "data": {
      "image/png": "[encoded data removed]",
      "text/plain": [
       "<Figure size 640x480 with 1 Axes>"
      ]
     },
     "metadata": {},
     "output_type": "display_data"
    }
   ],
   "source": [
    "df_merged.plot(\"POPTOTAL\")"
   ]
  },
  {
   "cell_type": "code",
   "execution_count": 68,
   "id": "784cacd1-5b44-4bab-8cc9-57ca39977a56",
   "metadata": {},
   "outputs": [],
   "source": [
    "df_merged.to_csv('my_dataframe.csv', index=False)\n"
   ]
  },
  {
   "cell_type": "code",
   "execution_count": 71,
   "id": "3c5069a0-ef61-4cbf-9a8b-2930caf5390e",
   "metadata": {},
   "outputs": [
    {
     "name": "stdout",
     "output_type": "stream",
     "text": [
      "Mean Median Household Income: 75854.50510783201\n"
     ]
    }
   ],
   "source": [
    "#Calculate the mean of Median Household Income\n",
    "mean_value=df_merged['MEDIANHHI'].mean()\n",
    "print(\"Mean Median Household Income:\", mean_value)"
   ]
  },
  {
   "cell_type": "markdown",
   "id": "7f250a0d-d5d4-4927-953f-248e6504428d",
   "metadata": {},
   "source": [
    "#### Mean Median Household Income in the Dataset: The mean Median Household Income (MEDIANHHI) across the ZIP codes in your dataset is approximately $75,855."
   ]
  },
  {
   "cell_type": "code",
   "execution_count": 72,
   "id": "59fea21f-ca54-439f-94ed-c1172bbe8229",
   "metadata": {},
   "outputs": [
    {
     "name": "stdout",
     "output_type": "stream",
     "text": [
      "ZIP Code with highest HHI: 55424\n"
     ]
    }
   ],
   "source": [
    "#ZIP code with the highest Median Household Income\n",
    "zip_code_highest= df_merged.loc[df_merged['MEDIANHHI'].idxmax(), 'ZCTA5CE20']\n",
    "print(\"ZIP Code with highest HHI:\", zip_code_highest)"
   ]
  },
  {
   "cell_type": "code",
   "execution_count": 76,
   "id": "504023fb-5ec9-4102-af25-ab5d4365395d",
   "metadata": {},
   "outputs": [
    {
     "name": "stdout",
     "output_type": "stream",
     "text": [
      "Mean Median Household Income in dataset: 75854.50510783201\n",
      "Median Household Income in the US in 2020: 67521\n",
      "Difference in income: 8333.50510783201\n",
      "Percentage difference: 12.342093730590499\n"
     ]
    }
   ],
   "source": [
    "# Define the national median household income in 2020\n",
    "us_median_hhi_2020 = 67521\n",
    "print(\"Mean Median Household Income in dataset:\", mean_value)\n",
    "print(\"Median Household Income in the US in 2020:\", us_median_hhi_2020)\n",
    "# Determine how the dataset's mean compares to the national median\n",
    "difference = mean_value - us_median_hhi_2020\n",
    "percentage_difference = (difference / us_median_hhi_2020) * 100\n",
    "\n",
    "print(\"Difference in income:\", difference)\n",
    "print(\"Percentage difference:\", percentage_difference)"
   ]
  },
  {
   "cell_type": "code",
   "execution_count": 73,
   "id": "ca6dd29e-49ef-41c8-b84b-7ea8ba059421",
   "metadata": {},
   "outputs": [],
   "source": [
    "# Calculate the percent of population under 18\n",
    "df_merged['PERCENT_UNDER18'] = (df_merged['AGEUNDER18'] / df_merged['POPTOTAL']) * 100\n"
   ]
  },
  {
   "cell_type": "code",
   "execution_count": 74,
   "id": "5fbd7387-6b3b-4828-8ed8-0ac654733b9f",
   "metadata": {},
   "outputs": [
    {
     "data": {
      "text/plain": [
       "0      32.000000\n",
       "1      27.454803\n",
       "2      23.841060\n",
       "3      25.382263\n",
       "4      23.475046\n",
       "         ...    \n",
       "876    22.370012\n",
       "877    16.866047\n",
       "878    42.000000\n",
       "879    15.551839\n",
       "880    18.032787\n",
       "Name: PERCENT_UNDER18, Length: 881, dtype: float64"
      ]
     },
     "execution_count": 74,
     "metadata": {},
     "output_type": "execute_result"
    }
   ],
   "source": [
    "df_merged['PERCENT_UNDER18']"
   ]
  },
  {
   "cell_type": "code",
   "execution_count": 75,
   "id": "923d46b9-fb24-4acb-a883-01710d970a08",
   "metadata": {},
   "outputs": [
    {
     "name": "stdout",
     "output_type": "stream",
     "text": [
      "Top 5 ZIP codes with largest percent population under 18:\n",
      "    ZCTA5CE20  PERCENT_UNDER18\n",
      "669     55029        60.000000\n",
      "265     56030        52.941176\n",
      "663     56666        49.251248\n",
      "395     56210        46.666667\n",
      "93      56626        42.675159\n"
     ]
    }
   ],
   "source": [
    "# Get the top 5 ZIP codes with the largest percent population under 18\n",
    "top_5_under18 = df_merged.nlargest(5, 'PERCENT_UNDER18')[['ZCTA5CE20', 'PERCENT_UNDER18']]\n",
    "print(\"Top 5 ZIP codes with largest percent population under 18:\")\n",
    "print(top_5_under18)"
   ]
  },
  {
   "cell_type": "code",
   "execution_count": 87,
   "id": "e22a0afe-ad01-4dfd-93d9-e25d4a0697dc",
   "metadata": {},
   "outputs": [
    {
     "name": "stdout",
     "output_type": "stream",
     "text": [
      "Collecting folium\n",
      "  Using cached folium-0.16.0-py2.py3-none-any.whl.metadata (3.6 kB)\n",
      "Collecting branca>=0.6.0 (from folium)\n",
      "  Using cached branca-0.7.1-py3-none-any.whl.metadata (1.5 kB)\n",
      "Collecting jinja2>=2.9 (from folium)\n",
      "  Using cached Jinja2-3.1.3-py3-none-any.whl.metadata (3.3 kB)\n",
      "Requirement already satisfied: numpy in /opt/conda/envs/sau24s/lib/python3.8/site-packages (from folium) (1.24.4)\n",
      "Requirement already satisfied: requests in /opt/conda/envs/sau24s/lib/python3.8/site-packages (from folium) (2.31.0)\n",
      "Collecting xyzservices (from folium)\n",
      "  Downloading xyzservices-2024.4.0-py3-none-any.whl.metadata (4.0 kB)\n",
      "Collecting MarkupSafe>=2.0 (from jinja2>=2.9->folium)\n",
      "  Using cached MarkupSafe-2.1.5-cp38-cp38-manylinux_2_17_x86_64.manylinux2014_x86_64.whl.metadata (3.0 kB)\n",
      "Requirement already satisfied: charset-normalizer<4,>=2 in /opt/conda/envs/sau24s/lib/python3.8/site-packages (from requests->folium) (3.3.2)\n",
      "Requirement already satisfied: idna<4,>=2.5 in /opt/conda/envs/sau24s/lib/python3.8/site-packages (from requests->folium) (3.6)\n",
      "Requirement already satisfied: urllib3<3,>=1.21.1 in /opt/conda/envs/sau24s/lib/python3.8/site-packages (from requests->folium) (2.1.0)\n",
      "Requirement already satisfied: certifi>=2017.4.17 in /opt/conda/envs/sau24s/lib/python3.8/site-packages (from requests->folium) (2023.11.17)\n",
      "Using cached folium-0.16.0-py2.py3-none-any.whl (100 kB)\n",
      "Using cached branca-0.7.1-py3-none-any.whl (25 kB)\n",
      "Using cached Jinja2-3.1.3-py3-none-any.whl (133 kB)\n",
      "Downloading xyzservices-2024.4.0-py3-none-any.whl (81 kB)\n",
      "\u001b[2K   \u001b[90m━━━━━━━━━━━━━━━━━━━━━━━━━━━━━━━━━━━━━━━━\u001b[0m \u001b[32m82.0/82.0 kB\u001b[0m \u001b[31m4.1 MB/s\u001b[0m eta \u001b[36m0:00:00\u001b[0m\n",
      "\u001b[?25hUsing cached MarkupSafe-2.1.5-cp38-cp38-manylinux_2_17_x86_64.manylinux2014_x86_64.whl (26 kB)\n",
      "Installing collected packages: xyzservices, MarkupSafe, jinja2, branca, folium\n",
      "Successfully installed MarkupSafe-2.1.5 branca-0.7.1 folium-0.16.0 jinja2-3.1.3 xyzservices-2024.4.0\n",
      "Collecting mapclassify\n",
      "  Downloading mapclassify-2.6.0-py3-none-any.whl.metadata (11 kB)\n",
      "Requirement already satisfied: scipy>=1.0 in /opt/conda/envs/sau24s/lib/python3.8/site-packages (from mapclassify) (1.9.1)\n",
      "Requirement already satisfied: numpy>=1.3 in /opt/conda/envs/sau24s/lib/python3.8/site-packages (from mapclassify) (1.24.4)\n",
      "Requirement already satisfied: scikit-learn in /opt/conda/envs/sau24s/lib/python3.8/site-packages (from mapclassify) (1.1.2)\n",
      "Requirement already satisfied: pandas>=1.0 in /opt/conda/envs/sau24s/lib/python3.8/site-packages (from mapclassify) (2.0.3)\n",
      "Collecting networkx (from mapclassify)\n",
      "  Downloading networkx-3.1-py3-none-any.whl.metadata (5.3 kB)\n",
      "Requirement already satisfied: python-dateutil>=2.8.2 in /opt/conda/envs/sau24s/lib/python3.8/site-packages (from pandas>=1.0->mapclassify) (2.8.2)\n",
      "Requirement already satisfied: pytz>=2020.1 in /opt/conda/envs/sau24s/lib/python3.8/site-packages (from pandas>=1.0->mapclassify) (2023.3.post1)\n",
      "Requirement already satisfied: tzdata>=2022.1 in /opt/conda/envs/sau24s/lib/python3.8/site-packages (from pandas>=1.0->mapclassify) (2024.1)\n",
      "Requirement already satisfied: joblib>=1.0.0 in /opt/conda/envs/sau24s/lib/python3.8/site-packages (from scikit-learn->mapclassify) (1.3.2)\n",
      "Requirement already satisfied: threadpoolctl>=2.0.0 in /opt/conda/envs/sau24s/lib/python3.8/site-packages (from scikit-learn->mapclassify) (3.2.0)\n",
      "Requirement already satisfied: six>=1.5 in /opt/conda/envs/sau24s/lib/python3.8/site-packages (from python-dateutil>=2.8.2->pandas>=1.0->mapclassify) (1.16.0)\n",
      "Downloading mapclassify-2.6.0-py3-none-any.whl (40 kB)\n",
      "\u001b[2K   \u001b[90m━━━━━━━━━━━━━━━━━━━━━━━━━━━━━━━━━━━━━━━━\u001b[0m \u001b[32m40.8/40.8 kB\u001b[0m \u001b[31m2.4 MB/s\u001b[0m eta \u001b[36m0:00:00\u001b[0m\n",
      "\u001b[?25hDownloading networkx-3.1-py3-none-any.whl (2.1 MB)\n",
      "\u001b[2K   \u001b[90m━━━━━━━━━━━━━━━━━━━━━━━━━━━━━━━━━━━━━━━━\u001b[0m \u001b[32m2.1/2.1 MB\u001b[0m \u001b[31m40.1 MB/s\u001b[0m eta \u001b[36m0:00:00\u001b[0ma \u001b[36m0:00:01\u001b[0m\n",
      "\u001b[?25hInstalling collected packages: networkx, mapclassify\n",
      "Successfully installed mapclassify-2.6.0 networkx-3.1\n"
     ]
    }
   ],
   "source": [
    "!pip install folium\n",
    "!pip install mapclassify\n"
   ]
  },
  {
   "cell_type": "code",
   "execution_count": 116,
   "id": "3d94b341-4ee2-4b51-830e-68eca5e510b2",
   "metadata": {},
   "outputs": [
    {
     "ename": "ImportError",
     "evalue": "cannot import name 'ParseException' from 'shapely.errors' (/opt/conda/envs/sau24s/lib/python3.8/site-packages/shapely/errors.py)",
     "output_type": "error",
     "traceback": [
      "\u001b[0;31m---------------------------------------------------------------------------\u001b[0m",
      "\u001b[0;31mImportError\u001b[0m                               Traceback (most recent call last)",
      "Cell \u001b[0;32mIn[116], line 5\u001b[0m\n\u001b[1;32m      3\u001b[0m \u001b[38;5;28;01mfrom\u001b[39;00m \u001b[38;5;21;01mshapely\u001b[39;00m \u001b[38;5;28;01mimport\u001b[39;00m wkt\n\u001b[1;32m      4\u001b[0m \u001b[38;5;28;01mfrom\u001b[39;00m \u001b[38;5;21;01mshapely\u001b[39;00m\u001b[38;5;21;01m.\u001b[39;00m\u001b[38;5;21;01mgeometry\u001b[39;00m \u001b[38;5;28;01mimport\u001b[39;00m Point\n\u001b[0;32m----> 5\u001b[0m \u001b[38;5;28;01mfrom\u001b[39;00m \u001b[38;5;21;01mshapely\u001b[39;00m\u001b[38;5;21;01m.\u001b[39;00m\u001b[38;5;21;01merrors\u001b[39;00m \u001b[38;5;28;01mimport\u001b[39;00m WKTReadingError, ParseException\n\u001b[1;32m      7\u001b[0m \u001b[38;5;66;03m# Define a function to safely convert WKT to geometry\u001b[39;00m\n\u001b[1;32m      8\u001b[0m \u001b[38;5;28;01mdef\u001b[39;00m \u001b[38;5;21msafe_loads\u001b[39m(wkt_string):\n",
      "\u001b[0;31mImportError\u001b[0m: cannot import name 'ParseException' from 'shapely.errors' (/opt/conda/envs/sau24s/lib/python3.8/site-packages/shapely/errors.py)"
     ]
    }
   ],
   "source": [
    "import pandas as pd\n",
    "import geopandas as gpd\n",
    "from shapely import wkt\n",
    "from shapely.geometry import Point\n",
    "from shapely.errors import WKTReadingError, ParseException\n",
    "\n",
    "# Define a function to safely convert WKT to geometry\n",
    "def safe_loads(wkt_string):\n",
    "    try:\n",
    "        if pd.notna(wkt_string):  # Check if the string is not NaN\n",
    "            return wkt.loads(wkt_string)\n",
    "    except (WKTReadingError, ParseException):\n",
    "        pass\n",
    "    return None  # Return None if the WKT is invalid or NaN\n",
    "\n",
    "# Load the data from the CSV file\n",
    " # Make sure to use the correct path to your CSV file\n",
    "\n",
    "# Filter the data for homes valued between $500K and $749K\n",
    "high_value_homes = df_merged[df_merged['VAL500_749'] > 0]\n",
    "\n",
    "# Calculate the percentage of high-value homes\n",
    "high_value_homes['percentage'] = (high_value_homes['VAL500_749'] / high_value_homes['VAL_DENOM']) * 100\n",
    "\n",
    "# Ensure all geometry data are strings and not None or NaN\n",
    "high_value_homes['geometry_x'] = high_value_homes['geometry_x'].astype(str)\n",
    "\n",
    "# Apply the function to convert strings to geometry objects, handling errors\n",
    "high_value_homes['geometry'] = high_value_homes['geometry_x'].apply(safe_loads)\n",
    "\n",
    "# Remove rows with invalid geometries\n",
    "high_value_homes = high_value_homes[high_value_homes['geometry'].notnull()]\n",
    "\n",
    "# Convert the DataFrame to a GeoDataFrame\n",
    "gdf = gpd.GeoDataFrame(high_value_homes, geometry='geometry')\n",
    "\n",
    "# Create an interactive map using the explore() function\n",
    "map = gdf.explore(column='percentage', legend=True, cmap='viridis', tooltip=['ZCTA5CE20', 'percentage'])\n",
    "\n",
    "# Display the map within the notebook if using Jupyter, for instance\n",
    "map\n"
   ]
  },
  {
   "cell_type": "code",
   "execution_count": null,
   "id": "8b33dd21-0522-48a4-8b32-dfae396d6bb6",
   "metadata": {},
   "outputs": [],
   "source": []
  }
 ],
 "metadata": {
  "kernelspec": {
   "display_name": "Python [conda env:sau24s]",
   "language": "python",
   "name": "conda-env-sau24s-py"
  },
  "language_info": {
   "codemirror_mode": {
    "name": "ipython",
    "version": 3
   },
   "file_extension": ".py",
   "mimetype": "text/x-python",
   "name": "python",
   "nbconvert_exporter": "python",
   "pygments_lexer": "ipython3",
   "version": "3.8.18"
  }
 },
 "nbformat": 4,
 "nbformat_minor": 5
}
