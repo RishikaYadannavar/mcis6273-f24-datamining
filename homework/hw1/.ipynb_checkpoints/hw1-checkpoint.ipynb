{
 "cells": [
  {
   "cell_type": "code",
   "execution_count": 3,
   "id": "72622a33-0299-4dc2-a762-aa189678f743",
   "metadata": {},
   "outputs": [
    {
     "name": "stdout",
     "output_type": "stream",
     "text": [
      "Collecting pandas\n",
      "  Using cached pandas-2.2.0-cp311-cp311-manylinux_2_17_x86_64.manylinux2014_x86_64.whl.metadata (19 kB)\n",
      "Collecting numpy<2,>=1.23.2 (from pandas)\n",
      "  Downloading numpy-1.26.4-cp311-cp311-manylinux_2_17_x86_64.manylinux2014_x86_64.whl.metadata (61 kB)\n",
      "\u001b[2K     \u001b[90m━━━━━━━━━━━━━━━━━━━━━━━━━━━━━━━━━━━━━━━━\u001b[0m \u001b[32m61.0/61.0 kB\u001b[0m \u001b[31m2.7 MB/s\u001b[0m eta \u001b[36m0:00:00\u001b[0m\n",
      "\u001b[?25hRequirement already satisfied: python-dateutil>=2.8.2 in /opt/conda/lib/python3.11/site-packages (from pandas) (2.8.2)\n",
      "Requirement already satisfied: pytz>=2020.1 in /opt/conda/lib/python3.11/site-packages (from pandas) (2023.3.post1)\n",
      "Collecting tzdata>=2022.7 (from pandas)\n",
      "  Downloading tzdata-2024.1-py2.py3-none-any.whl.metadata (1.4 kB)\n",
      "Requirement already satisfied: six>=1.5 in /opt/conda/lib/python3.11/site-packages (from python-dateutil>=2.8.2->pandas) (1.16.0)\n",
      "Using cached pandas-2.2.0-cp311-cp311-manylinux_2_17_x86_64.manylinux2014_x86_64.whl (13.0 MB)\n",
      "Downloading numpy-1.26.4-cp311-cp311-manylinux_2_17_x86_64.manylinux2014_x86_64.whl (18.3 MB)\n",
      "\u001b[2K   \u001b[90m━━━━━━━━━━━━━━━━━━━━━━━━━━━━━━━━━━━━━━━━\u001b[0m \u001b[32m18.3/18.3 MB\u001b[0m \u001b[31m51.5 MB/s\u001b[0m eta \u001b[36m0:00:00\u001b[0m00:01\u001b[0m00:01\u001b[0m\n",
      "\u001b[?25hDownloading tzdata-2024.1-py2.py3-none-any.whl (345 kB)\n",
      "\u001b[2K   \u001b[90m━━━━━━━━━━━━━━━━━━━━━━━━━━━━━━━━━━━━━━━━\u001b[0m \u001b[32m345.4/345.4 kB\u001b[0m \u001b[31m33.2 MB/s\u001b[0m eta \u001b[36m0:00:00\u001b[0m\n",
      "\u001b[?25hInstalling collected packages: tzdata, numpy, pandas\n",
      "Successfully installed numpy-1.26.4 pandas-2.2.0 tzdata-2024.1\n"
     ]
    }
   ],
   "source": [
    "#!pip install pandas"
   ]
  },
  {
   "cell_type": "code",
   "execution_count": 13,
   "id": "b68f7bc4-5993-4171-bfcf-1500b916548b",
   "metadata": {},
   "outputs": [
    {
     "name": "stdout",
     "output_type": "stream",
     "text": [
      "Requirement already satisfied: requests in /opt/conda/lib/python3.11/site-packages (2.31.0)\n",
      "Requirement already satisfied: charset-normalizer<4,>=2 in /opt/conda/lib/python3.11/site-packages (from requests) (3.3.0)\n",
      "Requirement already satisfied: idna<4,>=2.5 in /opt/conda/lib/python3.11/site-packages (from requests) (3.4)\n",
      "Requirement already satisfied: urllib3<3,>=1.21.1 in /opt/conda/lib/python3.11/site-packages (from requests) (2.0.7)\n",
      "Requirement already satisfied: certifi>=2017.4.17 in /opt/conda/lib/python3.11/site-packages (from requests) (2023.11.17)\n"
     ]
    }
   ],
   "source": [
    "#!pip install requests"
   ]
  },
  {
   "cell_type": "code",
   "execution_count": 1,
   "id": "cb02b32d-2455-47b5-8a47-753ac88cfc6f",
   "metadata": {},
   "outputs": [],
   "source": [
    "import pandas as pd\n",
    "import numpy as np "
   ]
  },
  {
   "cell_type": "code",
   "execution_count": 2,
   "id": "7abad7a8-a981-4fc0-9d81-eb8cd671ed54",
   "metadata": {},
   "outputs": [],
   "source": [
    "import pandas as pd\n",
    "data_url = 'https://ourairports.com/countries/US/airports.hxl'\n",
    "# Load the CSV file into a DataFrame\n",
    "airport_df = pd.read_csv(data_url)\n",
    "\n",
    "# Remove the non-useful row (metadata row) if it exists\n",
    "if airport_df.iloc[0, 0] == \"#meta +id\":\n",
    "    airport_df = airport_df.drop(0)\n",
    "\n",
    "# Save the cleaned DataFrame to a new CSV file named 'all_us_airports.csv'\n",
    "airport_df.to_csv('all_us_airports.csv', index=False)\n"
   ]
  },
  {
   "cell_type": "code",
   "execution_count": 3,
   "id": "f20141bf-a5f3-43f6-b598-3c6c3554e834",
   "metadata": {},
   "outputs": [],
   "source": [
    "airport_data= pd.read_csv('all_us_airports.csv')"
   ]
  },
  {
   "cell_type": "code",
   "execution_count": 4,
   "id": "415767f8-80c6-4c32-97c0-b143322cc91d",
   "metadata": {},
   "outputs": [
    {
     "data": {
      "text/html": [
       "<div>\n",
       "<style scoped>\n",
       "    .dataframe tbody tr th:only-of-type {\n",
       "        vertical-align: middle;\n",
       "    }\n",
       "\n",
       "    .dataframe tbody tr th {\n",
       "        vertical-align: top;\n",
       "    }\n",
       "\n",
       "    .dataframe thead th {\n",
       "        text-align: right;\n",
       "    }\n",
       "</style>\n",
       "<table border=\"1\" class=\"dataframe\">\n",
       "  <thead>\n",
       "    <tr style=\"text-align: right;\">\n",
       "      <th></th>\n",
       "      <th>id</th>\n",
       "      <th>ident</th>\n",
       "      <th>type</th>\n",
       "      <th>name</th>\n",
       "      <th>latitude_deg</th>\n",
       "      <th>longitude_deg</th>\n",
       "      <th>elevation_ft</th>\n",
       "      <th>continent</th>\n",
       "      <th>country_name</th>\n",
       "      <th>iso_country</th>\n",
       "      <th>...</th>\n",
       "      <th>municipality</th>\n",
       "      <th>scheduled_service</th>\n",
       "      <th>gps_code</th>\n",
       "      <th>iata_code</th>\n",
       "      <th>local_code</th>\n",
       "      <th>home_link</th>\n",
       "      <th>wikipedia_link</th>\n",
       "      <th>keywords</th>\n",
       "      <th>score</th>\n",
       "      <th>last_updated</th>\n",
       "    </tr>\n",
       "  </thead>\n",
       "  <tbody>\n",
       "    <tr>\n",
       "      <th>0</th>\n",
       "      <td>3632</td>\n",
       "      <td>KLAX</td>\n",
       "      <td>large_airport</td>\n",
       "      <td>Los Angeles International Airport</td>\n",
       "      <td>33.942501</td>\n",
       "      <td>-118.407997</td>\n",
       "      <td>125.0</td>\n",
       "      <td>NaN</td>\n",
       "      <td>United States</td>\n",
       "      <td>US</td>\n",
       "      <td>...</td>\n",
       "      <td>Los Angeles</td>\n",
       "      <td>1</td>\n",
       "      <td>KLAX</td>\n",
       "      <td>LAX</td>\n",
       "      <td>LAX</td>\n",
       "      <td>https://www.flylax.com/</td>\n",
       "      <td>https://en.wikipedia.org/wiki/Los_Angeles_Inte...</td>\n",
       "      <td>Tom Bradley</td>\n",
       "      <td>1335475</td>\n",
       "      <td>2023-12-21T12:31:02+00:00</td>\n",
       "    </tr>\n",
       "    <tr>\n",
       "      <th>1</th>\n",
       "      <td>3754</td>\n",
       "      <td>KORD</td>\n",
       "      <td>large_airport</td>\n",
       "      <td>Chicago O'Hare International Airport</td>\n",
       "      <td>41.978600</td>\n",
       "      <td>-87.904800</td>\n",
       "      <td>672.0</td>\n",
       "      <td>NaN</td>\n",
       "      <td>United States</td>\n",
       "      <td>US</td>\n",
       "      <td>...</td>\n",
       "      <td>Chicago</td>\n",
       "      <td>1</td>\n",
       "      <td>KORD</td>\n",
       "      <td>ORD</td>\n",
       "      <td>ORD</td>\n",
       "      <td>https://www.flychicago.com/ohare/home/pages/de...</td>\n",
       "      <td>https://en.wikipedia.org/wiki/O'Hare_Internati...</td>\n",
       "      <td>CHI, Orchard Place</td>\n",
       "      <td>1503175</td>\n",
       "      <td>2018-09-16T02:35:35+00:00</td>\n",
       "    </tr>\n",
       "    <tr>\n",
       "      <th>2</th>\n",
       "      <td>3622</td>\n",
       "      <td>KJFK</td>\n",
       "      <td>large_airport</td>\n",
       "      <td>John F Kennedy International Airport</td>\n",
       "      <td>40.639447</td>\n",
       "      <td>-73.779317</td>\n",
       "      <td>13.0</td>\n",
       "      <td>NaN</td>\n",
       "      <td>United States</td>\n",
       "      <td>US</td>\n",
       "      <td>...</td>\n",
       "      <td>New York</td>\n",
       "      <td>1</td>\n",
       "      <td>KJFK</td>\n",
       "      <td>JFK</td>\n",
       "      <td>JFK</td>\n",
       "      <td>https://www.jfkairport.com/</td>\n",
       "      <td>https://en.wikipedia.org/wiki/John_F._Kennedy_...</td>\n",
       "      <td>Manhattan, New York City, NYC, Idlewild, IDL, ...</td>\n",
       "      <td>1052075</td>\n",
       "      <td>2022-10-18T18:49:55+00:00</td>\n",
       "    </tr>\n",
       "    <tr>\n",
       "      <th>3</th>\n",
       "      <td>3384</td>\n",
       "      <td>KATL</td>\n",
       "      <td>large_airport</td>\n",
       "      <td>Hartsfield Jackson Atlanta International Airport</td>\n",
       "      <td>33.636700</td>\n",
       "      <td>-84.428101</td>\n",
       "      <td>1026.0</td>\n",
       "      <td>NaN</td>\n",
       "      <td>United States</td>\n",
       "      <td>US</td>\n",
       "      <td>...</td>\n",
       "      <td>Atlanta</td>\n",
       "      <td>1</td>\n",
       "      <td>KATL</td>\n",
       "      <td>ATL</td>\n",
       "      <td>ATL</td>\n",
       "      <td>http://www.atlanta-airport.com/</td>\n",
       "      <td>https://en.wikipedia.org/wiki/Hartsfield–Jacks...</td>\n",
       "      <td>NaN</td>\n",
       "      <td>2002475</td>\n",
       "      <td>2018-09-19T14:50:01+00:00</td>\n",
       "    </tr>\n",
       "    <tr>\n",
       "      <th>4</th>\n",
       "      <td>3878</td>\n",
       "      <td>KSFO</td>\n",
       "      <td>large_airport</td>\n",
       "      <td>San Francisco International Airport</td>\n",
       "      <td>37.618999</td>\n",
       "      <td>-122.375000</td>\n",
       "      <td>13.0</td>\n",
       "      <td>NaN</td>\n",
       "      <td>United States</td>\n",
       "      <td>US</td>\n",
       "      <td>...</td>\n",
       "      <td>San Francisco</td>\n",
       "      <td>1</td>\n",
       "      <td>KSFO</td>\n",
       "      <td>SFO</td>\n",
       "      <td>SFO</td>\n",
       "      <td>http://www.flysfo.com/</td>\n",
       "      <td>https://en.wikipedia.org/wiki/San_Francisco_In...</td>\n",
       "      <td>QSF, QBA</td>\n",
       "      <td>1112475</td>\n",
       "      <td>2008-06-13T14:30:04+00:00</td>\n",
       "    </tr>\n",
       "  </tbody>\n",
       "</table>\n",
       "<p>5 rows × 23 columns</p>\n",
       "</div>"
      ],
      "text/plain": [
       "     id ident           type  \\\n",
       "0  3632  KLAX  large_airport   \n",
       "1  3754  KORD  large_airport   \n",
       "2  3622  KJFK  large_airport   \n",
       "3  3384  KATL  large_airport   \n",
       "4  3878  KSFO  large_airport   \n",
       "\n",
       "                                               name  latitude_deg  \\\n",
       "0                 Los Angeles International Airport     33.942501   \n",
       "1              Chicago O'Hare International Airport     41.978600   \n",
       "2              John F Kennedy International Airport     40.639447   \n",
       "3  Hartsfield Jackson Atlanta International Airport     33.636700   \n",
       "4               San Francisco International Airport     37.618999   \n",
       "\n",
       "   longitude_deg  elevation_ft continent   country_name iso_country  ...  \\\n",
       "0    -118.407997         125.0       NaN  United States          US  ...   \n",
       "1     -87.904800         672.0       NaN  United States          US  ...   \n",
       "2     -73.779317          13.0       NaN  United States          US  ...   \n",
       "3     -84.428101        1026.0       NaN  United States          US  ...   \n",
       "4    -122.375000          13.0       NaN  United States          US  ...   \n",
       "\n",
       "    municipality scheduled_service gps_code iata_code  local_code  \\\n",
       "0    Los Angeles                 1     KLAX       LAX         LAX   \n",
       "1        Chicago                 1     KORD       ORD         ORD   \n",
       "2       New York                 1     KJFK       JFK         JFK   \n",
       "3        Atlanta                 1     KATL       ATL         ATL   \n",
       "4  San Francisco                 1     KSFO       SFO         SFO   \n",
       "\n",
       "                                           home_link  \\\n",
       "0                            https://www.flylax.com/   \n",
       "1  https://www.flychicago.com/ohare/home/pages/de...   \n",
       "2                        https://www.jfkairport.com/   \n",
       "3                    http://www.atlanta-airport.com/   \n",
       "4                             http://www.flysfo.com/   \n",
       "\n",
       "                                      wikipedia_link  \\\n",
       "0  https://en.wikipedia.org/wiki/Los_Angeles_Inte...   \n",
       "1  https://en.wikipedia.org/wiki/O'Hare_Internati...   \n",
       "2  https://en.wikipedia.org/wiki/John_F._Kennedy_...   \n",
       "3  https://en.wikipedia.org/wiki/Hartsfield–Jacks...   \n",
       "4  https://en.wikipedia.org/wiki/San_Francisco_In...   \n",
       "\n",
       "                                            keywords    score  \\\n",
       "0                                        Tom Bradley  1335475   \n",
       "1                                 CHI, Orchard Place  1503175   \n",
       "2  Manhattan, New York City, NYC, Idlewild, IDL, ...  1052075   \n",
       "3                                                NaN  2002475   \n",
       "4                                           QSF, QBA  1112475   \n",
       "\n",
       "                last_updated  \n",
       "0  2023-12-21T12:31:02+00:00  \n",
       "1  2018-09-16T02:35:35+00:00  \n",
       "2  2022-10-18T18:49:55+00:00  \n",
       "3  2018-09-19T14:50:01+00:00  \n",
       "4  2008-06-13T14:30:04+00:00  \n",
       "\n",
       "[5 rows x 23 columns]"
      ]
     },
     "execution_count": 4,
     "metadata": {},
     "output_type": "execute_result"
    }
   ],
   "source": [
    "airport_data.head()"
   ]
  },
  {
   "cell_type": "code",
   "execution_count": 5,
   "id": "084814e0-2764-4d77-80e4-f3ece647293f",
   "metadata": {},
   "outputs": [
    {
     "data": {
      "text/plain": [
       "(30916, 23)"
      ]
     },
     "execution_count": 5,
     "metadata": {},
     "output_type": "execute_result"
    }
   ],
   "source": [
    "airport_data.shape"
   ]
  },
  {
   "cell_type": "code",
   "execution_count": 6,
   "id": "723f80bf-0da4-4fa3-b2c0-19162b65f9cd",
   "metadata": {},
   "outputs": [
    {
     "data": {
      "text/plain": [
       "id                       0\n",
       "ident                    0\n",
       "type                     0\n",
       "name                     0\n",
       "latitude_deg             0\n",
       "longitude_deg            0\n",
       "elevation_ft          2004\n",
       "continent            30806\n",
       "country_name             0\n",
       "iso_country              0\n",
       "region_name              0\n",
       "iso_region               0\n",
       "local_region             0\n",
       "municipality            58\n",
       "scheduled_service        0\n",
       "gps_code             10614\n",
       "iata_code            28945\n",
       "local_code            9689\n",
       "home_link            29757\n",
       "wikipedia_link       28327\n",
       "keywords             24772\n",
       "score                    0\n",
       "last_updated             0\n",
       "dtype: int64"
      ]
     },
     "execution_count": 6,
     "metadata": {},
     "output_type": "execute_result"
    }
   ],
   "source": [
    "airport_data.isnull().sum()"
   ]
  },
  {
   "cell_type": "code",
   "execution_count": 17,
   "id": "b35495d4-e62e-428a-b386-d3272565989b",
   "metadata": {},
   "outputs": [],
   "source": [
    "airport_data.dropna(subset=['iata_code'], inplace=True)"
   ]
  },
  {
   "cell_type": "code",
   "execution_count": 18,
   "id": "67c92752-d8b8-4d4d-9525-bb3c4d608b63",
   "metadata": {},
   "outputs": [
    {
     "data": {
      "text/plain": [
       "(1971, 23)"
      ]
     },
     "execution_count": 18,
     "metadata": {},
     "output_type": "execute_result"
    }
   ],
   "source": [
    "airport_data.shape"
   ]
  },
  {
   "cell_type": "code",
   "execution_count": 19,
   "id": "285ab9f2-3e60-47cd-be0b-73624935e178",
   "metadata": {},
   "outputs": [
    {
     "data": {
      "text/plain": [
       "id                      0\n",
       "ident                   0\n",
       "type                    0\n",
       "name                    0\n",
       "latitude_deg            0\n",
       "longitude_deg           0\n",
       "elevation_ft           30\n",
       "continent            1952\n",
       "country_name            0\n",
       "iso_country             0\n",
       "region_name             0\n",
       "iso_region              0\n",
       "local_region            0\n",
       "municipality            0\n",
       "scheduled_service       0\n",
       "gps_code               75\n",
       "iata_code               0\n",
       "local_code             14\n",
       "home_link            1192\n",
       "wikipedia_link        257\n",
       "keywords             1488\n",
       "score                   0\n",
       "last_updated            0\n",
       "dtype: int64"
      ]
     },
     "execution_count": 19,
     "metadata": {},
     "output_type": "execute_result"
    }
   ],
   "source": [
    "airport_data.isnull().sum()"
   ]
  },
  {
   "cell_type": "code",
   "execution_count": 20,
   "id": "baea7caf-869c-4b1e-930e-916fa6d9d711",
   "metadata": {},
   "outputs": [
    {
     "name": "stdout",
     "output_type": "stream",
     "text": [
      "Number of large airports: 66\n"
     ]
    }
   ],
   "source": [
    "\n",
    "large_airports = airport_data[airport_data['type'] == 'large_airport']\n",
    "\n",
    "\n",
    "relevant_columns = ['name', 'latitude_deg', 'longitude_deg', 'iata_code']\n",
    "large_airports_filtered = large_airports[relevant_columns]\n",
    "\n",
    "\n",
    "large_airports_filtered.to_csv('large_us_airports.csv', index=False)\n",
    "\n",
    "\n",
    "num_large_airports = len(large_airports_filtered)\n",
    "print(\"Number of large airports:\", num_large_airports)\n"
   ]
  },
  {
   "cell_type": "code",
   "execution_count": 9,
   "id": "bdf88f0a-3506-4396-bb8a-15fb364a5ac6",
   "metadata": {},
   "outputs": [
    {
     "name": "stdout",
     "output_type": "stream",
     "text": [
      "Collecting folium\n",
      "  Using cached folium-0.15.1-py2.py3-none-any.whl.metadata (3.4 kB)\n",
      "Collecting branca>=0.6.0 (from folium)\n",
      "  Using cached branca-0.7.1-py3-none-any.whl.metadata (1.5 kB)\n",
      "Collecting jinja2>=2.9 (from folium)\n",
      "  Using cached Jinja2-3.1.3-py3-none-any.whl.metadata (3.3 kB)\n",
      "Requirement already satisfied: numpy in /opt/conda/envs/sau24s/lib/python3.8/site-packages (from folium) (1.19.5)\n",
      "Requirement already satisfied: requests in /opt/conda/envs/sau24s/lib/python3.8/site-packages (from folium) (2.31.0)\n",
      "Collecting xyzservices (from folium)\n",
      "  Using cached xyzservices-2023.10.1-py3-none-any.whl.metadata (4.0 kB)\n",
      "Collecting MarkupSafe>=2.0 (from jinja2>=2.9->folium)\n",
      "  Using cached MarkupSafe-2.1.5-cp38-cp38-manylinux_2_17_x86_64.manylinux2014_x86_64.whl.metadata (3.0 kB)\n",
      "Requirement already satisfied: charset-normalizer<4,>=2 in /opt/conda/envs/sau24s/lib/python3.8/site-packages (from requests->folium) (3.3.2)\n",
      "Requirement already satisfied: idna<4,>=2.5 in /opt/conda/envs/sau24s/lib/python3.8/site-packages (from requests->folium) (3.6)\n",
      "Requirement already satisfied: urllib3<3,>=1.21.1 in /opt/conda/envs/sau24s/lib/python3.8/site-packages (from requests->folium) (2.1.0)\n",
      "Requirement already satisfied: certifi>=2017.4.17 in /opt/conda/envs/sau24s/lib/python3.8/site-packages (from requests->folium) (2023.11.17)\n",
      "Using cached folium-0.15.1-py2.py3-none-any.whl (97 kB)\n",
      "Using cached branca-0.7.1-py3-none-any.whl (25 kB)\n",
      "Using cached Jinja2-3.1.3-py3-none-any.whl (133 kB)\n",
      "Using cached xyzservices-2023.10.1-py3-none-any.whl (56 kB)\n",
      "Using cached MarkupSafe-2.1.5-cp38-cp38-manylinux_2_17_x86_64.manylinux2014_x86_64.whl (26 kB)\n",
      "Installing collected packages: xyzservices, MarkupSafe, jinja2, branca, folium\n",
      "Successfully installed MarkupSafe-2.1.5 branca-0.7.1 folium-0.15.1 jinja2-3.1.3 xyzservices-2023.10.1\n"
     ]
    }
   ],
   "source": [
    "!pip install folium\n"
   ]
  },
  {
   "cell_type": "code",
   "execution_count": 21,
   "id": "80fcc7a5-963a-4663-9b3f-20a767d543d3",
   "metadata": {},
   "outputs": [],
   "source": [
    "import folium\n",
    "\n",
    "# Load the filtered DataFrame\n",
    "large_airports = pd.read_csv('large_us_airports.csv')\n",
    "\n",
    "# Create a map centered at an initial location\n",
    "map_center = [large_airports['latitude_deg'].mean(), large_airports['longitude_deg'].mean()]\n",
    "mymap = folium.Map(location=map_center, zoom_start=5)\n",
    "\n",
    "# Add markers for each large airport\n",
    "for index, row in large_airports.iterrows():\n",
    "    # Define popup content with airport name and IATA code\n",
    "    popup_content = f\"{row['name']} ({row['iata_code']})\"\n",
    "\n",
    "    # Add marker with custom icon and popup\n",
    "    folium.Marker(location=[row['latitude_deg'], row['longitude_deg']],\n",
    "                  popup=popup_content,\n",
    "                  icon=folium.Icon(icon='plane', prefix='fa')).add_to(mymap)\n",
    "\n",
    "# Save the map as an HTML file\n",
    "mymap.save('large_airports_map.html')\n"
   ]
  },
  {
   "cell_type": "code",
   "execution_count": 79,
   "id": "988bc60b-5bf2-4e8d-a4fe-bdcee77f451b",
   "metadata": {},
   "outputs": [],
   "source": [
    "import folium\n",
    "\n",
    "\n",
    "large_airports = pd.read_csv('large_us_airports.csv')\n",
    "\n",
    "\n",
    "map_center = [large_airports['latitude_deg'].mean(), large_airports['longitude_deg'].mean()]\n",
    "mymap = folium.Map(location=map_center, zoom_start=5)\n",
    "\n",
    "\n",
    "for index, row in large_airports.iterrows():\n",
    "    \n",
    "    popup_content = f\"{row['name']} ({row['iata_code']})\"\n",
    "\n",
    "    \n",
    "    folium.Marker(location=[row['latitude_deg'], row['longitude_deg']],\n",
    "                  popup=popup_content,\n",
    "                  icon=folium.Icon(icon='plane', prefix='fa',icon_rotation=45)).add_to(mymap)\n",
    "\n",
    "\n",
    "mymap.save('large_airports_map1.html')"
   ]
  },
  {
   "cell_type": "markdown",
   "id": "a4ef8e8a-df17-4ac1-97a0-98d014ea9e1e",
   "metadata": {},
   "source": [
    "next "
   ]
  },
  {
   "cell_type": "code",
   "execution_count": 75,
   "id": "c249fe6a-75bd-439c-9efb-1a7079ac8c89",
   "metadata": {},
   "outputs": [],
   "source": [
    "import requests\n",
    "\n",
    "url = \"https://api.openaq.org/v2/measurements?date_from=2023-06-06T00%3A00%3A00Z&date_to=2023-06-06T13%3A54%3A00Z&limit=100000&sort=desc&radius=7500&order_by=datetime&parameter_id=2&coordinates=42.33143000,-83.0457500\"\n",
    "\n",
    "headers = {\"accept\": \"application/json\"}\n",
    "\n",
    "response = requests.get(url, headers=headers)\n",
    "\n"
   ]
  },
  {
   "cell_type": "code",
   "execution_count": 76,
   "id": "7dd36f48-c427-4008-8d69-c48951827aed",
   "metadata": {},
   "outputs": [],
   "source": [
    "\n",
    "import json\n",
    "\n",
    "# Assuming response_text contains the JSON response\n",
    "response_json = json.loads(response.text)\n",
    "\n",
    "# Accessing the 'results' section\n",
    "results = response_json['results']\n",
    "\n",
    "# Directly convert the 'results' section to a DataFrame\n",
    "df = pd.DataFrame(results)\n",
    "\n",
    "# Transform 'coordinates' into 'sensor_lat' and 'sensor_lon'\n",
    "df['sensor_lat'] = df['coordinates'].apply(lambda x: x['latitude'])\n",
    "df['sensor_lon'] = df['coordinates'].apply(lambda x: x['longitude'])\n",
    "\n",
    "# Convert 'date' to 'local_time' in datetime64 format\n",
    "df['local_time'] = pd.to_datetime(df['date'].apply(lambda x: x['local']))\n",
    "\n",
    "# Include only specified fields and filter by 'entity'\n",
    "filtered_df = df[df['entity'].isin(['Governmental Organization', 'Community Organization'])]\n",
    "final_df = filtered_df[['locationId', 'location', 'entity', 'parameter', 'value', 'sensor_lat', 'sensor_lon', 'local_time']]\n"
   ]
  },
  {
   "cell_type": "code",
   "execution_count": 77,
   "id": "deac61e6-8296-456e-aabb-73c8f9d49442",
   "metadata": {},
   "outputs": [
    {
     "data": {
      "text/html": [
       "<div>\n",
       "<style scoped>\n",
       "    .dataframe tbody tr th:only-of-type {\n",
       "        vertical-align: middle;\n",
       "    }\n",
       "\n",
       "    .dataframe tbody tr th {\n",
       "        vertical-align: top;\n",
       "    }\n",
       "\n",
       "    .dataframe thead th {\n",
       "        text-align: right;\n",
       "    }\n",
       "</style>\n",
       "<table border=\"1\" class=\"dataframe\">\n",
       "  <thead>\n",
       "    <tr style=\"text-align: right;\">\n",
       "      <th></th>\n",
       "      <th>locationId</th>\n",
       "      <th>location</th>\n",
       "      <th>entity</th>\n",
       "      <th>parameter</th>\n",
       "      <th>value</th>\n",
       "      <th>sensor_lat</th>\n",
       "      <th>sensor_lon</th>\n",
       "      <th>local_time</th>\n",
       "    </tr>\n",
       "  </thead>\n",
       "  <tbody>\n",
       "    <tr>\n",
       "      <th>0</th>\n",
       "      <td>1385</td>\n",
       "      <td>Windsor Downtown</td>\n",
       "      <td>Governmental Organization</td>\n",
       "      <td>pm25</td>\n",
       "      <td>50.0</td>\n",
       "      <td>42.3144</td>\n",
       "      <td>-83.0433</td>\n",
       "      <td>2023-06-06 09:00:00-04:00</td>\n",
       "    </tr>\n",
       "    <tr>\n",
       "      <th>1</th>\n",
       "      <td>1385</td>\n",
       "      <td>Windsor Downtown</td>\n",
       "      <td>Governmental Organization</td>\n",
       "      <td>pm25</td>\n",
       "      <td>48.0</td>\n",
       "      <td>42.3144</td>\n",
       "      <td>-83.0433</td>\n",
       "      <td>2023-06-06 08:00:00-04:00</td>\n",
       "    </tr>\n",
       "    <tr>\n",
       "      <th>2</th>\n",
       "      <td>1385</td>\n",
       "      <td>Windsor Downtown</td>\n",
       "      <td>Governmental Organization</td>\n",
       "      <td>pm25</td>\n",
       "      <td>50.0</td>\n",
       "      <td>42.3144</td>\n",
       "      <td>-83.0433</td>\n",
       "      <td>2023-06-06 07:00:00-04:00</td>\n",
       "    </tr>\n",
       "    <tr>\n",
       "      <th>3</th>\n",
       "      <td>1385</td>\n",
       "      <td>Windsor Downtown</td>\n",
       "      <td>Governmental Organization</td>\n",
       "      <td>pm25</td>\n",
       "      <td>44.0</td>\n",
       "      <td>42.3144</td>\n",
       "      <td>-83.0433</td>\n",
       "      <td>2023-06-06 06:00:00-04:00</td>\n",
       "    </tr>\n",
       "    <tr>\n",
       "      <th>4</th>\n",
       "      <td>1385</td>\n",
       "      <td>Windsor Downtown</td>\n",
       "      <td>Governmental Organization</td>\n",
       "      <td>pm25</td>\n",
       "      <td>41.0</td>\n",
       "      <td>42.3144</td>\n",
       "      <td>-83.0433</td>\n",
       "      <td>2023-06-06 05:00:00-04:00</td>\n",
       "    </tr>\n",
       "  </tbody>\n",
       "</table>\n",
       "</div>"
      ],
      "text/plain": [
       "   locationId          location                     entity parameter  value  \\\n",
       "0        1385  Windsor Downtown  Governmental Organization      pm25   50.0   \n",
       "1        1385  Windsor Downtown  Governmental Organization      pm25   48.0   \n",
       "2        1385  Windsor Downtown  Governmental Organization      pm25   50.0   \n",
       "3        1385  Windsor Downtown  Governmental Organization      pm25   44.0   \n",
       "4        1385  Windsor Downtown  Governmental Organization      pm25   41.0   \n",
       "\n",
       "   sensor_lat  sensor_lon                local_time  \n",
       "0     42.3144    -83.0433 2023-06-06 09:00:00-04:00  \n",
       "1     42.3144    -83.0433 2023-06-06 08:00:00-04:00  \n",
       "2     42.3144    -83.0433 2023-06-06 07:00:00-04:00  \n",
       "3     42.3144    -83.0433 2023-06-06 06:00:00-04:00  \n",
       "4     42.3144    -83.0433 2023-06-06 05:00:00-04:00  "
      ]
     },
     "execution_count": 77,
     "metadata": {},
     "output_type": "execute_result"
    }
   ],
   "source": [
    "final_df.head()"
   ]
  },
  {
   "cell_type": "code",
   "execution_count": 78,
   "id": "a2ae096c-5086-4b7b-9b05-5dacb9d5dbd9",
   "metadata": {},
   "outputs": [
    {
     "data": {
      "text/plain": [
       "(3793, 8)"
      ]
     },
     "execution_count": 78,
     "metadata": {},
     "output_type": "execute_result"
    }
   ],
   "source": [
    "final_df.shape"
   ]
  },
  {
   "cell_type": "code",
   "execution_count": null,
   "id": "e173f6e1-7de7-4646-8703-664bdfa071e4",
   "metadata": {},
   "outputs": [],
   "source": []
  }
 ],
 "metadata": {
  "kernelspec": {
   "display_name": "Python [conda env:sau24s]",
   "language": "python",
   "name": "conda-env-sau24s-py"
  },
  "language_info": {
   "codemirror_mode": {
    "name": "ipython",
    "version": 3
   },
   "file_extension": ".py",
   "mimetype": "text/x-python",
   "name": "python",
   "nbconvert_exporter": "python",
   "pygments_lexer": "ipython3",
   "version": "3.8.18"
  }
 },
 "nbformat": 4,
 "nbformat_minor": 5
}
